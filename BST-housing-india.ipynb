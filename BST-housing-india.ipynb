{
 "cells": [
  {
   "cell_type": "markdown",
   "metadata": {},
   "source": [
    "# Data Structures and Algorithms Final Project\n",
    "#### Authors: Victoria Blante, Chelyah Miller, Emma Juan Salazar\n",
    "#### Date Created: 11/29/2024\n",
    "#### Last Edited: 12/2/2024"
   ]
  },
  {
   "cell_type": "markdown",
   "metadata": {},
   "source": [
    "## Library Importation"
   ]
  },
  {
   "cell_type": "code",
   "execution_count": 476,
   "metadata": {},
   "outputs": [],
   "source": [
    "import pandas as pd\n",
    "import numpy as np\n",
    "import matplotlib.pyplot as plt\n",
    "\n",
    "import os\n",
    "import sys\n",
    "import time"
   ]
  },
  {
   "cell_type": "markdown",
   "metadata": {},
   "source": [
    "## The Real Estate Market in India: Organizing a dataset with a Binary Search Tree"
   ]
  },
  {
   "cell_type": "markdown",
   "metadata": {},
   "source": [
    "This dataset contains real estate property listings from different parts of India. The dataset includes a variety of properties, with each entry containing information such as the price, location, area, and several features like the number of bedrooms, gym availability, and parking facilities. The dataset serves as a representation of the available properties in Bangalore, focusing on both resale and new properties.\n"
   ]
  },
  {
   "cell_type": "markdown",
   "metadata": {},
   "source": [
    "#### The datasets found here: [Housing Prices in Metropolitan Areas of India](https://www.kaggle.com/datasets/ruchi798/housing-prices-in-metropolitan-areas-of-india)"
   ]
  },
  {
   "cell_type": "markdown",
   "metadata": {},
   "source": [
    "We create a file for each dataset that we can utilize. In total we have 6 files of varying size: "
   ]
  },
  {
   "cell_type": "code",
   "execution_count": 477,
   "metadata": {},
   "outputs": [],
   "source": [
    "#! for file in data/*; do wc -l $file; done;"
   ]
  },
  {
   "cell_type": "markdown",
   "metadata": {},
   "source": [
    "### Taking a look at one dataset"
   ]
  },
  {
   "cell_type": "code",
   "execution_count": 478,
   "metadata": {},
   "outputs": [],
   "source": [
    "bangalore = pd.read_csv(\"data/Bangalore.csv\")"
   ]
  },
  {
   "cell_type": "code",
   "execution_count": 479,
   "metadata": {},
   "outputs": [
    {
     "data": {
      "text/html": [
       "<div>\n",
       "<style scoped>\n",
       "    .dataframe tbody tr th:only-of-type {\n",
       "        vertical-align: middle;\n",
       "    }\n",
       "\n",
       "    .dataframe tbody tr th {\n",
       "        vertical-align: top;\n",
       "    }\n",
       "\n",
       "    .dataframe thead th {\n",
       "        text-align: right;\n",
       "    }\n",
       "</style>\n",
       "<table border=\"1\" class=\"dataframe\">\n",
       "  <thead>\n",
       "    <tr style=\"text-align: right;\">\n",
       "      <th></th>\n",
       "      <th>Price</th>\n",
       "      <th>Area</th>\n",
       "      <th>Location</th>\n",
       "      <th>No. of Bedrooms</th>\n",
       "      <th>Resale</th>\n",
       "      <th>MaintenanceStaff</th>\n",
       "      <th>Gymnasium</th>\n",
       "      <th>SwimmingPool</th>\n",
       "      <th>LandscapedGardens</th>\n",
       "      <th>JoggingTrack</th>\n",
       "      <th>...</th>\n",
       "      <th>LiftAvailable</th>\n",
       "      <th>BED</th>\n",
       "      <th>VaastuCompliant</th>\n",
       "      <th>Microwave</th>\n",
       "      <th>GolfCourse</th>\n",
       "      <th>TV</th>\n",
       "      <th>DiningTable</th>\n",
       "      <th>Sofa</th>\n",
       "      <th>Wardrobe</th>\n",
       "      <th>Refrigerator</th>\n",
       "    </tr>\n",
       "  </thead>\n",
       "  <tbody>\n",
       "    <tr>\n",
       "      <th>0</th>\n",
       "      <td>30000000</td>\n",
       "      <td>3340</td>\n",
       "      <td>JP Nagar Phase 1</td>\n",
       "      <td>4</td>\n",
       "      <td>0</td>\n",
       "      <td>1</td>\n",
       "      <td>1</td>\n",
       "      <td>1</td>\n",
       "      <td>1</td>\n",
       "      <td>1</td>\n",
       "      <td>...</td>\n",
       "      <td>1</td>\n",
       "      <td>0</td>\n",
       "      <td>0</td>\n",
       "      <td>0</td>\n",
       "      <td>0</td>\n",
       "      <td>0</td>\n",
       "      <td>0</td>\n",
       "      <td>0</td>\n",
       "      <td>0</td>\n",
       "      <td>0</td>\n",
       "    </tr>\n",
       "    <tr>\n",
       "      <th>1</th>\n",
       "      <td>7888000</td>\n",
       "      <td>1045</td>\n",
       "      <td>Dasarahalli on Tumkur Road</td>\n",
       "      <td>2</td>\n",
       "      <td>0</td>\n",
       "      <td>0</td>\n",
       "      <td>1</td>\n",
       "      <td>1</td>\n",
       "      <td>1</td>\n",
       "      <td>1</td>\n",
       "      <td>...</td>\n",
       "      <td>1</td>\n",
       "      <td>0</td>\n",
       "      <td>1</td>\n",
       "      <td>0</td>\n",
       "      <td>0</td>\n",
       "      <td>0</td>\n",
       "      <td>0</td>\n",
       "      <td>0</td>\n",
       "      <td>0</td>\n",
       "      <td>0</td>\n",
       "    </tr>\n",
       "    <tr>\n",
       "      <th>2</th>\n",
       "      <td>4866000</td>\n",
       "      <td>1179</td>\n",
       "      <td>Kannur on Thanisandra Main Road</td>\n",
       "      <td>2</td>\n",
       "      <td>0</td>\n",
       "      <td>0</td>\n",
       "      <td>1</td>\n",
       "      <td>1</td>\n",
       "      <td>1</td>\n",
       "      <td>1</td>\n",
       "      <td>...</td>\n",
       "      <td>1</td>\n",
       "      <td>0</td>\n",
       "      <td>0</td>\n",
       "      <td>0</td>\n",
       "      <td>0</td>\n",
       "      <td>0</td>\n",
       "      <td>0</td>\n",
       "      <td>0</td>\n",
       "      <td>0</td>\n",
       "      <td>0</td>\n",
       "    </tr>\n",
       "    <tr>\n",
       "      <th>3</th>\n",
       "      <td>8358000</td>\n",
       "      <td>1675</td>\n",
       "      <td>Doddanekundi</td>\n",
       "      <td>3</td>\n",
       "      <td>0</td>\n",
       "      <td>0</td>\n",
       "      <td>0</td>\n",
       "      <td>0</td>\n",
       "      <td>0</td>\n",
       "      <td>0</td>\n",
       "      <td>...</td>\n",
       "      <td>1</td>\n",
       "      <td>0</td>\n",
       "      <td>0</td>\n",
       "      <td>0</td>\n",
       "      <td>0</td>\n",
       "      <td>0</td>\n",
       "      <td>0</td>\n",
       "      <td>0</td>\n",
       "      <td>0</td>\n",
       "      <td>0</td>\n",
       "    </tr>\n",
       "    <tr>\n",
       "      <th>4</th>\n",
       "      <td>6845000</td>\n",
       "      <td>1670</td>\n",
       "      <td>Kengeri</td>\n",
       "      <td>3</td>\n",
       "      <td>0</td>\n",
       "      <td>1</td>\n",
       "      <td>1</td>\n",
       "      <td>1</td>\n",
       "      <td>1</td>\n",
       "      <td>1</td>\n",
       "      <td>...</td>\n",
       "      <td>1</td>\n",
       "      <td>0</td>\n",
       "      <td>0</td>\n",
       "      <td>0</td>\n",
       "      <td>0</td>\n",
       "      <td>0</td>\n",
       "      <td>0</td>\n",
       "      <td>0</td>\n",
       "      <td>0</td>\n",
       "      <td>0</td>\n",
       "    </tr>\n",
       "  </tbody>\n",
       "</table>\n",
       "<p>5 rows × 40 columns</p>\n",
       "</div>"
      ],
      "text/plain": [
       "      Price  Area                         Location  No. of Bedrooms  Resale  \\\n",
       "0  30000000  3340                 JP Nagar Phase 1                4       0   \n",
       "1   7888000  1045       Dasarahalli on Tumkur Road                2       0   \n",
       "2   4866000  1179  Kannur on Thanisandra Main Road                2       0   \n",
       "3   8358000  1675                     Doddanekundi                3       0   \n",
       "4   6845000  1670                          Kengeri                3       0   \n",
       "\n",
       "   MaintenanceStaff  Gymnasium  SwimmingPool  LandscapedGardens  JoggingTrack  \\\n",
       "0                 1          1             1                  1             1   \n",
       "1                 0          1             1                  1             1   \n",
       "2                 0          1             1                  1             1   \n",
       "3                 0          0             0                  0             0   \n",
       "4                 1          1             1                  1             1   \n",
       "\n",
       "   ...  LiftAvailable  BED  VaastuCompliant  Microwave  GolfCourse  TV  \\\n",
       "0  ...              1    0                0          0           0   0   \n",
       "1  ...              1    0                1          0           0   0   \n",
       "2  ...              1    0                0          0           0   0   \n",
       "3  ...              1    0                0          0           0   0   \n",
       "4  ...              1    0                0          0           0   0   \n",
       "\n",
       "   DiningTable  Sofa  Wardrobe  Refrigerator  \n",
       "0            0     0         0             0  \n",
       "1            0     0         0             0  \n",
       "2            0     0         0             0  \n",
       "3            0     0         0             0  \n",
       "4            0     0         0             0  \n",
       "\n",
       "[5 rows x 40 columns]"
      ]
     },
     "execution_count": 479,
     "metadata": {},
     "output_type": "execute_result"
    }
   ],
   "source": [
    "bangalore.head()"
   ]
  },
  {
   "cell_type": "code",
   "execution_count": 480,
   "metadata": {},
   "outputs": [
    {
     "name": "stdout",
     "output_type": "stream",
     "text": [
      "<class 'pandas.core.frame.DataFrame'>\n",
      "RangeIndex: 6207 entries, 0 to 6206\n",
      "Data columns (total 40 columns):\n",
      " #   Column               Non-Null Count  Dtype \n",
      "---  ------               --------------  ----- \n",
      " 0   Price                6207 non-null   int64 \n",
      " 1   Area                 6207 non-null   int64 \n",
      " 2   Location             6207 non-null   object\n",
      " 3   No. of Bedrooms      6207 non-null   int64 \n",
      " 4   Resale               6207 non-null   int64 \n",
      " 5   MaintenanceStaff     6207 non-null   int64 \n",
      " 6   Gymnasium            6207 non-null   int64 \n",
      " 7   SwimmingPool         6207 non-null   int64 \n",
      " 8   LandscapedGardens    6207 non-null   int64 \n",
      " 9   JoggingTrack         6207 non-null   int64 \n",
      " 10  RainWaterHarvesting  6207 non-null   int64 \n",
      " 11  IndoorGames          6207 non-null   int64 \n",
      " 12  ShoppingMall         6207 non-null   int64 \n",
      " 13  Intercom             6207 non-null   int64 \n",
      " 14  SportsFacility       6207 non-null   int64 \n",
      " 15  ATM                  6207 non-null   int64 \n",
      " 16  ClubHouse            6207 non-null   int64 \n",
      " 17  School               6207 non-null   int64 \n",
      " 18  24X7Security         6207 non-null   int64 \n",
      " 19  PowerBackup          6207 non-null   int64 \n",
      " 20  CarParking           6207 non-null   int64 \n",
      " 21  StaffQuarter         6207 non-null   int64 \n",
      " 22  Cafeteria            6207 non-null   int64 \n",
      " 23  MultipurposeRoom     6207 non-null   int64 \n",
      " 24  Hospital             6207 non-null   int64 \n",
      " 25  WashingMachine       6207 non-null   int64 \n",
      " 26  Gasconnection        6207 non-null   int64 \n",
      " 27  AC                   6207 non-null   int64 \n",
      " 28  Wifi                 6207 non-null   int64 \n",
      " 29  Children'splayarea   6207 non-null   int64 \n",
      " 30  LiftAvailable        6207 non-null   int64 \n",
      " 31  BED                  6207 non-null   int64 \n",
      " 32  VaastuCompliant      6207 non-null   int64 \n",
      " 33  Microwave            6207 non-null   int64 \n",
      " 34  GolfCourse           6207 non-null   int64 \n",
      " 35  TV                   6207 non-null   int64 \n",
      " 36  DiningTable          6207 non-null   int64 \n",
      " 37  Sofa                 6207 non-null   int64 \n",
      " 38  Wardrobe             6207 non-null   int64 \n",
      " 39  Refrigerator         6207 non-null   int64 \n",
      "dtypes: int64(39), object(1)\n",
      "memory usage: 1.9+ MB\n"
     ]
    }
   ],
   "source": [
    "bangalore.info()"
   ]
  },
  {
   "cell_type": "markdown",
   "metadata": {},
   "source": [
    "#### Key Features:\n",
    "- Price: The listing price of the property.\n",
    "- Area: The size of the property in square feet.\n",
    "- Location: The locality where the property is located.\n",
    "- No. of Bedrooms: The number of bedrooms in the property.\n",
    "- Amenities: Information about available amenities such as the gym, swimming pool, 24x7 security, etc."
   ]
  },
  {
   "cell_type": "markdown",
   "metadata": {},
   "source": [
    "We'll use **Price** as the variable by which to organize this dataset."
   ]
  },
  {
   "cell_type": "markdown",
   "metadata": {},
   "source": [
    "This is what extracting one property from the dataset (saved as a pandas DataFrame) would look like."
   ]
  },
  {
   "cell_type": "code",
   "execution_count": 481,
   "metadata": {},
   "outputs": [],
   "source": [
    "property = bangalore.iloc[0]"
   ]
  },
  {
   "cell_type": "code",
   "execution_count": 482,
   "metadata": {},
   "outputs": [
    {
     "data": {
      "text/plain": [
       "Price                          30000000\n",
       "Area                               3340\n",
       "Location               JP Nagar Phase 1\n",
       "No. of Bedrooms                       4\n",
       "Resale                                0\n",
       "MaintenanceStaff                      1\n",
       "Gymnasium                             1\n",
       "SwimmingPool                          1\n",
       "LandscapedGardens                     1\n",
       "JoggingTrack                          1\n",
       "RainWaterHarvesting                   1\n",
       "IndoorGames                           1\n",
       "ShoppingMall                          0\n",
       "Intercom                              1\n",
       "SportsFacility                        1\n",
       "ATM                                   0\n",
       "ClubHouse                             1\n",
       "School                                0\n",
       "24X7Security                          1\n",
       "PowerBackup                           1\n",
       "CarParking                            0\n",
       "StaffQuarter                          0\n",
       "Cafeteria                             0\n",
       "MultipurposeRoom                      0\n",
       "Hospital                              0\n",
       "WashingMachine                        0\n",
       "Gasconnection                         0\n",
       "AC                                    0\n",
       "Wifi                                  0\n",
       "Children'splayarea                    1\n",
       "LiftAvailable                         1\n",
       "BED                                   0\n",
       "VaastuCompliant                       0\n",
       "Microwave                             0\n",
       "GolfCourse                            0\n",
       "TV                                    0\n",
       "DiningTable                           0\n",
       "Sofa                                  0\n",
       "Wardrobe                              0\n",
       "Refrigerator                          0\n",
       "Name: 0, dtype: object"
      ]
     },
     "execution_count": 482,
     "metadata": {},
     "output_type": "execute_result"
    }
   ],
   "source": [
    "property"
   ]
  },
  {
   "cell_type": "code",
   "execution_count": 483,
   "metadata": {},
   "outputs": [
    {
     "data": {
      "text/plain": [
       "30000000"
      ]
     },
     "execution_count": 483,
     "metadata": {},
     "output_type": "execute_result"
    }
   ],
   "source": [
    "property['Price']"
   ]
  },
  {
   "cell_type": "code",
   "execution_count": 484,
   "metadata": {},
   "outputs": [
    {
     "data": {
      "text/plain": [
       "Area                               3340\n",
       "Location               JP Nagar Phase 1\n",
       "No. of Bedrooms                       4\n",
       "Resale                                0\n",
       "MaintenanceStaff                      1\n",
       "Gymnasium                             1\n",
       "SwimmingPool                          1\n",
       "LandscapedGardens                     1\n",
       "JoggingTrack                          1\n",
       "RainWaterHarvesting                   1\n",
       "IndoorGames                           1\n",
       "ShoppingMall                          0\n",
       "Intercom                              1\n",
       "SportsFacility                        1\n",
       "ATM                                   0\n",
       "ClubHouse                             1\n",
       "School                                0\n",
       "24X7Security                          1\n",
       "PowerBackup                           1\n",
       "CarParking                            0\n",
       "StaffQuarter                          0\n",
       "Cafeteria                             0\n",
       "MultipurposeRoom                      0\n",
       "Hospital                              0\n",
       "WashingMachine                        0\n",
       "Gasconnection                         0\n",
       "AC                                    0\n",
       "Wifi                                  0\n",
       "Children'splayarea                    1\n",
       "LiftAvailable                         1\n",
       "BED                                   0\n",
       "VaastuCompliant                       0\n",
       "Microwave                             0\n",
       "GolfCourse                            0\n",
       "TV                                    0\n",
       "DiningTable                           0\n",
       "Sofa                                  0\n",
       "Wardrobe                              0\n",
       "Refrigerator                          0\n",
       "Name: 0, dtype: object"
      ]
     },
     "execution_count": 484,
     "metadata": {},
     "output_type": "execute_result"
    }
   ],
   "source": [
    "property[1:]"
   ]
  },
  {
   "cell_type": "markdown",
   "metadata": {},
   "source": [
    "### Property IDs"
   ]
  },
  {
   "cell_type": "markdown",
   "metadata": {},
   "source": [
    "We'll define an ID for each propertie so we have a string that's unique to each one.\n",
    "\n",
    "We'll use the city and the index in the csv file.\n",
    "\n",
    "To identify the cities we'll use City Codes (Airport IATA Codes).\n",
    "\n",
    "These codes are commonly used for airports but often represent the city as a whole:\n",
    "\n",
    "- Bangalore: BLR (Kempegowda International Airport)\n",
    "- Chennai: MAA (Chennai International Airport)\n",
    "- Delhi: DEL (Indira Gandhi International Airport)\n",
    "- Hyderabad: HYD (Rajiv Gandhi International Airport)\n",
    "- Kolkata: CCU (Netaji Subhas Chandra Bose International Airport)\n",
    "- Mumbai: BOM (Chhatrapati Shivaji Maharaj International Airport)\n",
    "\n",
    "And for the index of the property in the csv file we'll use numbers from 1 to 9999 (since the longest of our datasets has approx 7k lines).\n",
    "\n",
    "We'll pad this number so it's 4 digits."
   ]
  },
  {
   "cell_type": "code",
   "execution_count": 485,
   "metadata": {},
   "outputs": [],
   "source": [
    "def property_id(city: str, index: int):\n",
    "    city_codes = {\"bangalore\": \"BLR\", \"chennai\": \"MAA\", \"delhi\": \"DEL\",\n",
    "                  \"hyderabad\": \"HYD\", \"kolkata\": \"CCU\", \"mumbai\": \"BOM\"}\n",
    "    return f\"{city_codes[city.lower()]}-{str(index).zfill(4)}\""
   ]
  },
  {
   "cell_type": "code",
   "execution_count": 486,
   "metadata": {},
   "outputs": [
    {
     "data": {
      "text/plain": [
       "'BLR-0032'"
      ]
     },
     "execution_count": 486,
     "metadata": {},
     "output_type": "execute_result"
    }
   ],
   "source": [
    "property_id(\"Bangalore\", 32)"
   ]
  },
  {
   "cell_type": "markdown",
   "metadata": {},
   "source": [
    "## 1. Implementation of the BST"
   ]
  },
  {
   "cell_type": "markdown",
   "metadata": {},
   "source": [
    "### Defining the BST structure"
   ]
  },
  {
   "cell_type": "markdown",
   "metadata": {},
   "source": [
    "First we'll define a **Node**.\n",
    "\n",
    "This is the object that makes up our BST.\n",
    "\n",
    "In our case, each node will represent a **Price Point**. To each of these nodes, we'll attach however many properties are currently at that price point."
   ]
  },
  {
   "cell_type": "code",
   "execution_count": 487,
   "metadata": {},
   "outputs": [],
   "source": [
    "class Node:\n",
    "\tdef __init__(self, price: int, id: str, details: pd.Series):\n",
    "\t\t\"\"\"\n",
    "\t\tA TreeNode has three main attributes:\n",
    "\t\t\t- a key\n",
    "\t\t\t- a pointer to the left child\n",
    "\t\t\t- a pointer to the right child\n",
    "\t\tWe'll add variable that will store all properties this price point.\n",
    "\t\tWhen initializing, we need at least one property per price point.\n",
    "\t\tEach property:\n",
    "\t\t\t- is identified by their id\n",
    "\t\t\t- has a series of characteristics stored in a pandas Series\n",
    "\t\t\"\"\"\n",
    "\t\tself.price = price\n",
    "\t\tself.left = None\n",
    "\t\tself.right = None\n",
    "\t\tself.height = 1 \n",
    "\t\tself.properties = {id: details}\n",
    "\n",
    "\tdef add_property(self, id: str, details: pd.Series):\n",
    "\t\t\"\"\"\n",
    "\t\tThis method will add a property to the node.\n",
    "\t\t- We'll use the id to identify the property\n",
    "\t\t- We'll store the details of the property in the form of a pd.Series\n",
    "\t\t\"\"\"\n",
    "\t\tself.properties[id] = details\n",
    "\n",
    "\tdef delete_property(self, id: str):\n",
    "\t\tif id in self.properties:\n",
    "\t\t\tdel self.properties[id]\n",
    "\t\telse:\n",
    "\t\t\tprint(f\"Property {id} not found at price point {self.price}\")\n",
    "\n",
    "\tdef property_ids(self):\n",
    "\t\t\"\"\" Get a list of the IDs of all the properties at this price point \"\"\"\n",
    "\t\treturn list(self.properties.keys())\n",
    "\t\n",
    "\tdef nb_properties(self):\n",
    "\t\t\"\"\" Get the number of properties at this nodes' price point \"\"\"\n",
    "\t\treturn len(self.properties)"
   ]
  },
  {
   "cell_type": "code",
   "execution_count": 488,
   "metadata": {},
   "outputs": [],
   "source": [
    "class BinarySearchTree:\n",
    "\tdef __init__(self):\n",
    "\t\tself.root = None\n",
    "\n",
    "\t# INSERT a property\n",
    "\tdef insert(self, price: int, id: str, details: pd.Series):\n",
    "\t\tself.root = self._insert(self.root, price, id, details)\n",
    "\n",
    "\tdef _insert(self, root, price: int, id: str, details: pd.Series):\n",
    "\t\t\"\"\" We recursively traverse the tree to find where to add our new\n",
    "\t\tproperty in the correct price point \"\"\"\n",
    "\t\tif root is None:\n",
    "\t\t\treturn Node(price, id, details)\n",
    "\t\tif price < root.price:\n",
    "\t\t\troot.left = self._insert(root.left, price, id, details)\n",
    "\t\telif price > root.price:\n",
    "\t\t\troot.right = self._insert(root.right, price, id, details)\n",
    "\t\telse:\n",
    "\t\t\t# in case a node with the current price exists, we add the property\n",
    "\t\t\troot.add_property(id, details)\n",
    "\t\t\n",
    "\t\troot.height = 1 + max(self.get_height(root.left), self.get_height(root.right))\n",
    "\n",
    "\t\tbalance = self.get_balance(root)\n",
    "\n",
    "\t\t# Left-Left (Rotate Right)\n",
    "\t\tif balance > 1 and price < root.left.price:\n",
    "\t\t\treturn self.rotate_right(root)\n",
    "\n",
    "\t\t# Right-Right (Rotate Left)\n",
    "\t\tif balance < -1 and price > root.right.price:\n",
    "\t\t\treturn self.rotate_left(root)\n",
    "\n",
    "\t\t# Left-Right (Left Rotate, then Right Rotate)\n",
    "\t\tif balance > 1 and price > root.left.price:\n",
    "\t\t\troot.left = self.rotate_left(root.left)\n",
    "\t\t\treturn self.rotate_right(root)\n",
    "\n",
    "\t\t# Right-Left (Right Rotate, then Left Rotate)\n",
    "\t\tif balance < -1 and price < root.right.price:\n",
    "\t\t\troot.right = self.rotate_right(root.right)\n",
    "\t\t\treturn self.rotate_left(root)\n",
    "\t\t\n",
    "\t\treturn root\n",
    "\n",
    "\t#BALANCING HELPERS\n",
    "\tdef get_height(self, node):\n",
    "\t\tif not node:\n",
    "\t\t\treturn 0\n",
    "\t\t\n",
    "\t\treturn node.height\n",
    "\n",
    "    # Get balance factor of a node\n",
    "\tdef get_balance(self, node):\n",
    "\t\tif not node:\n",
    "\t\t\treturn 0\n",
    "\t\treturn self.get_height(node.left) - self.get_height(node.right)\n",
    "\n",
    "    # Right rotation\n",
    "\tdef rotate_right(self, z):\n",
    "\t\ty = z.left\n",
    "\t\tT3 = y.right\n",
    "\n",
    "\t\t# Perform rotation\n",
    "\t\ty.right = z\n",
    "\t\tz.left = T3\n",
    "\n",
    "\t\t# Update heights\n",
    "\t\tz.height = 1 + max(self.get_height(z.left), self.get_height(z.right))\n",
    "\t\ty.height = 1 + max(self.get_height(y.left), self.get_height(y.right))\n",
    "\n",
    "\t\t# Return new root\n",
    "\t\treturn y\n",
    "\n",
    "    # Left rotation\n",
    "\tdef rotate_left(self, z):\n",
    "\t\ty = z.right\n",
    "\t\tT2 = y.left\n",
    "\n",
    "\t\t# Perform rotation\n",
    "\t\ty.left = z\n",
    "\t\tz.right = T2\n",
    "\n",
    "\t\t# Update heights\n",
    "\t\tz.height = 1 + max(self.get_height(z.left), self.get_height(z.right))\n",
    "\t\ty.height = 1 + max(self.get_height(y.left), self.get_height(y.right))\n",
    "\n",
    "\t\t# Return new root\n",
    "\t\treturn y\n",
    "\n",
    "\t# SEARCH: method -> Binary Search Algorithm\n",
    "\tdef search(self, price):\n",
    "\t\treturn self._search(self.root, price)\n",
    "\n",
    "\tdef _search(self, root, price):\n",
    "\t\t\"\"\" We recursively traverse the tree until we find a the node at the\n",
    "\t\tspecified price point \"\"\"\n",
    "\t\tif root is None or root.price == price:\n",
    "\t\t\treturn root\n",
    "\t\tif price < root.price:\n",
    "\t\t\treturn self._search(root.left, price)\n",
    "\t\treturn self._search(root.right, price)\n",
    "\t\n",
    "\t# DELETE A PROPERTY\n",
    "\tdef delete_property(self, price, id):\n",
    "\t\tnode = self.search(price)\n",
    "\t\tif node:\n",
    "\t\t\tnode.delete_property(id)\n",
    "\t\t\tself.root = self._rebalance(self.root, price)\n",
    "\t\n",
    "\tdef _rebalance(self, root, price):\n",
    "\t\t\"\"\"Rebalances the tree if necessary after a deletion.\"\"\"\n",
    "\t\tif root is None:\n",
    "\t\t\treturn root\n",
    "\n",
    "\t\troot.height = 1 + max(self.get_height(root.left), self.get_height(root.right))\n",
    "\t\tbalance = self.get_balance(root)\n",
    "\n",
    "\t\t# Left-Left (Rotate Right)\n",
    "\t\tif balance > 1 and self.get_balance(root.left) >= 0:\n",
    "\t\t\treturn self.rotate_right(root)\n",
    "\n",
    "\t\t# Right-Right (Rotate Left)\n",
    "\t\tif balance < -1 and self.get_balance(root.right) <= 0:\n",
    "\t\t\treturn self.rotate_left(root)\n",
    "\n",
    "\t\t# Left-Right (Left Rotate, then Right Rotate)\n",
    "\t\tif balance > 1 and self.get_balance(root.left) < 0:\n",
    "\t\t\troot.left = self.rotate_left(root.left)\n",
    "\t\t\treturn self.rotate_right(root)\n",
    "\n",
    "\t\t# Right-Left (Right Rotate, then Left Rotate)\n",
    "\t\tif balance < -1 and self.get_balance(root.right) > 0:\n",
    "\t\t\troot.right = self.rotate_right(root.right)\n",
    "\t\t\treturn self.rotate_left(root)\n",
    "\n",
    "\t\treturn root\n",
    "\t\n",
    "\t# Tree attributes\n",
    "\tdef size(self):\n",
    "\t\t\"\"\" Returns the size of the tree: total number of nodes\n",
    "\t\t(number of unique price points) \"\"\"\n",
    "\t\treturn self._size(self.root)\n",
    "\n",
    "\tdef _size(self, node):\n",
    "\t\tif node is None:\n",
    "\t\t\treturn 0\n",
    "\t\telse:\n",
    "\t\t\treturn 1 + self._size(node.left) + self._size(node.right)\n",
    "\t\t\n",
    "\tdef total_nb_properties(self):\n",
    "\t\t\"\"\" Returns the total number of properties in the tree. \"\"\"\n",
    "\t\treturn self._total_nb_properties(self.root)\n",
    "\t\n",
    "\tdef _total_nb_properties(self, node):\n",
    "\t\tif node is None:\n",
    "\t\t\treturn 0\n",
    "\t\telse:\n",
    "\t\t\treturn node.nb_properties() + \\\n",
    "\t\t\t\t\tself._total_nb_properties(node.left) + \\\n",
    "\t\t\t\t\tself._total_nb_properties(node.right)"
   ]
  },
  {
   "cell_type": "markdown",
   "metadata": {},
   "source": [
    "Now we'll define a function that will generate a BST from a dataset (stored in a pandas DataFrame)"
   ]
  },
  {
   "cell_type": "code",
   "execution_count": 489,
   "metadata": {},
   "outputs": [],
   "source": [
    "def BST_from_dataset(city: str, dataset: pd.DataFrame):\n",
    "\n",
    "    print(f\"Building a BST for the dataset of {city}.\")\n",
    "    start = time.time()\n",
    "    bst = BinarySearchTree()\n",
    "\n",
    "    for i in range(len(dataset)):\n",
    "        # We extract the property from the DataFrame -> pd.Series\n",
    "        property = dataset.iloc[i]\n",
    "\n",
    "        # We define the ID for the property\n",
    "        id = property_id(city, i)\n",
    "\n",
    "        # We insert the property on our tree.\n",
    "        # The Price is indexed under 'Price' (at position 0)\n",
    "        # and the rest of the Series are the other details\n",
    "        bst.insert(price=property['Price'], id=id, details=property[1:])\n",
    "\n",
    "    print(f\"Execution time {time.time() - start:.4f}\")\n",
    "\n",
    "    return bst"
   ]
  },
  {
   "cell_type": "code",
   "execution_count": 490,
   "metadata": {},
   "outputs": [],
   "source": [
    "def BST_from_csv(city: str, filename: str):\n",
    "\n",
    "    print(f\"Building a BST for the dataset of {city}.\")\n",
    "    start = time.time()\n",
    "    bst = BinarySearchTree()\n",
    "\n",
    "    # Open the CSV file\n",
    "    i = 0\n",
    "    with open(filename, mode=\"r\") as file:\n",
    "        # Read the first line as the header\n",
    "        header = file.readline().strip().split(\",\")[1:]\n",
    "\n",
    "        # Iterate over the remaining lines\n",
    "        for line in file:\n",
    "            property = line.strip().split(',')\n",
    "            id = property_id(city, i)\n",
    "            bst.insert(price=int(property[0]),\n",
    "                       id=id,\n",
    "                       details=pd.Series(data=property[1:], index=header))\n",
    "            i += 1\n",
    "\n",
    "    print(f\"Execution time {time.time() - start:.4f}\")\n",
    "\n",
    "    return bst"
   ]
  },
  {
   "cell_type": "markdown",
   "metadata": {},
   "source": [
    "### Creating the Bangalore BST"
   ]
  },
  {
   "cell_type": "code",
   "execution_count": 491,
   "metadata": {},
   "outputs": [
    {
     "name": "stdout",
     "output_type": "stream",
     "text": [
      "Building a BST for the dataset of Bangalore.\n"
     ]
    },
    {
     "name": "stdout",
     "output_type": "stream",
     "text": [
      "Execution time 1.6070\n"
     ]
    }
   ],
   "source": [
    "bangalore_bst = BST_from_csv(\"Bangalore\", \"data/Bangalore.csv\")"
   ]
  },
  {
   "cell_type": "code",
   "execution_count": 492,
   "metadata": {},
   "outputs": [
    {
     "name": "stdout",
     "output_type": "stream",
     "text": [
      "Building a BST for the dataset of Bangalore.\n",
      "Execution time 0.5986\n"
     ]
    }
   ],
   "source": [
    "bangalore_bst = BST_from_dataset(\"Bangalore\", bangalore)"
   ]
  },
  {
   "cell_type": "markdown",
   "metadata": {},
   "source": [
    "Creating the tree directly from the CSV file is slightly faster.\n",
    "\n",
    "Overall, the time it takes to build the tree is very small."
   ]
  },
  {
   "cell_type": "markdown",
   "metadata": {},
   "source": [
    "We can check that the size of our resulting trees equals the number of properties on our dataset."
   ]
  },
  {
   "cell_type": "code",
   "execution_count": 493,
   "metadata": {},
   "outputs": [
    {
     "data": {
      "text/plain": [
       "6207"
      ]
     },
     "execution_count": 493,
     "metadata": {},
     "output_type": "execute_result"
    }
   ],
   "source": [
    "len(bangalore)"
   ]
  },
  {
   "cell_type": "code",
   "execution_count": 494,
   "metadata": {},
   "outputs": [
    {
     "data": {
      "text/plain": [
       "2146"
      ]
     },
     "execution_count": 494,
     "metadata": {},
     "output_type": "execute_result"
    }
   ],
   "source": [
    "bangalore_bst.size()"
   ]
  },
  {
   "cell_type": "code",
   "execution_count": 495,
   "metadata": {},
   "outputs": [
    {
     "data": {
      "text/plain": [
       "6207"
      ]
     },
     "execution_count": 495,
     "metadata": {},
     "output_type": "execute_result"
    }
   ],
   "source": [
    "bangalore_bst.total_nb_properties()"
   ]
  },
  {
   "cell_type": "markdown",
   "metadata": {},
   "source": [
    "And now we can check what we have at our root for example:"
   ]
  },
  {
   "cell_type": "code",
   "execution_count": 496,
   "metadata": {},
   "outputs": [
    {
     "data": {
      "text/plain": [
       "6797000"
      ]
     },
     "execution_count": 496,
     "metadata": {},
     "output_type": "execute_result"
    }
   ],
   "source": [
    "bangalore_bst.root.price"
   ]
  },
  {
   "cell_type": "code",
   "execution_count": 497,
   "metadata": {},
   "outputs": [
    {
     "data": {
      "text/plain": [
       "3"
      ]
     },
     "execution_count": 497,
     "metadata": {},
     "output_type": "execute_result"
    }
   ],
   "source": [
    "bangalore_bst.root.nb_properties()"
   ]
  },
  {
   "cell_type": "code",
   "execution_count": 498,
   "metadata": {},
   "outputs": [
    {
     "data": {
      "text/plain": [
       "['BLR-0005', 'BLR-0023', 'BLR-0043']"
      ]
     },
     "execution_count": 498,
     "metadata": {},
     "output_type": "execute_result"
    }
   ],
   "source": [
    "bangalore_bst.root.property_ids()"
   ]
  },
  {
   "cell_type": "code",
   "execution_count": 499,
   "metadata": {},
   "outputs": [
    {
     "data": {
      "text/plain": [
       "Area                       1220\n",
       "Location               Horamavu\n",
       "No. of Bedrooms               2\n",
       "Resale                        0\n",
       "MaintenanceStaff              0\n",
       "Gymnasium                     1\n",
       "SwimmingPool                  1\n",
       "LandscapedGardens             1\n",
       "JoggingTrack                  1\n",
       "RainWaterHarvesting           1\n",
       "IndoorGames                   1\n",
       "ShoppingMall                  0\n",
       "Intercom                      1\n",
       "SportsFacility                1\n",
       "ATM                           0\n",
       "ClubHouse                     1\n",
       "School                        0\n",
       "24X7Security                  1\n",
       "PowerBackup                   1\n",
       "CarParking                    1\n",
       "StaffQuarter                  0\n",
       "Cafeteria                     0\n",
       "MultipurposeRoom              1\n",
       "Hospital                      0\n",
       "WashingMachine                0\n",
       "Gasconnection                 0\n",
       "AC                            0\n",
       "Wifi                          0\n",
       "Children'splayarea            1\n",
       "LiftAvailable                 1\n",
       "BED                           0\n",
       "VaastuCompliant               0\n",
       "Microwave                     0\n",
       "GolfCourse                    0\n",
       "TV                            0\n",
       "DiningTable                   0\n",
       "Sofa                          0\n",
       "Wardrobe                      0\n",
       "Refrigerator                  0\n",
       "Name: 5, dtype: object"
      ]
     },
     "execution_count": 499,
     "metadata": {},
     "output_type": "execute_result"
    }
   ],
   "source": [
    "bangalore_bst.root.properties['BLR-0005']"
   ]
  },
  {
   "cell_type": "code",
   "execution_count": 500,
   "metadata": {},
   "outputs": [
    {
     "data": {
      "text/plain": [
       "1220"
      ]
     },
     "execution_count": 500,
     "metadata": {},
     "output_type": "execute_result"
    }
   ],
   "source": [
    "bangalore_bst.root.properties['BLR-0005']['Area']"
   ]
  },
  {
   "cell_type": "markdown",
   "metadata": {},
   "source": [
    "We can also delete a property from the root and add it back again."
   ]
  },
  {
   "cell_type": "code",
   "execution_count": 501,
   "metadata": {},
   "outputs": [
    {
     "name": "stdout",
     "output_type": "stream",
     "text": [
      "Property BLR-0005 not found at price point 30000000\n"
     ]
    }
   ],
   "source": [
    "# We obtain the details of the property to re add it later on.\n",
    "blr_0005 = bangalore_bst.root.properties['BLR-0005']\n",
    "\n",
    "# We delete the property from our tree:\n",
    "bangalore_bst.delete_property(30000000, 'BLR-0005')"
   ]
  },
  {
   "cell_type": "code",
   "execution_count": 502,
   "metadata": {},
   "outputs": [
    {
     "data": {
      "text/plain": [
       "['BLR-0005', 'BLR-0023', 'BLR-0043']"
      ]
     },
     "execution_count": 502,
     "metadata": {},
     "output_type": "execute_result"
    }
   ],
   "source": [
    "bangalore_bst.root.property_ids()"
   ]
  },
  {
   "cell_type": "markdown",
   "metadata": {},
   "source": [
    "Now we can't see 'BLR-0005' anymore. Let's add it again."
   ]
  },
  {
   "cell_type": "code",
   "execution_count": 503,
   "metadata": {},
   "outputs": [],
   "source": [
    "bangalore_bst.insert(30000000, 'BLR-0005', blr_0005)"
   ]
  },
  {
   "cell_type": "code",
   "execution_count": 504,
   "metadata": {},
   "outputs": [
    {
     "data": {
      "text/plain": [
       "['BLR-0005', 'BLR-0023', 'BLR-0043']"
      ]
     },
     "execution_count": 504,
     "metadata": {},
     "output_type": "execute_result"
    }
   ],
   "source": [
    "bangalore_bst.root.property_ids()"
   ]
  },
  {
   "cell_type": "markdown",
   "metadata": {},
   "source": [
    "And we've successfully added it back in!"
   ]
  },
  {
   "cell_type": "markdown",
   "metadata": {},
   "source": [
    "### Querying functions"
   ]
  },
  {
   "cell_type": "markdown",
   "metadata": {},
   "source": [
    "#### Properties at the median price point."
   ]
  },
  {
   "cell_type": "code",
   "execution_count": 505,
   "metadata": {},
   "outputs": [],
   "source": [
    "def inorder_traversal(root, result=None):\n",
    "    if result is None:\n",
    "        result = []\n",
    "    if root:\n",
    "        inorder_traversal(root.left, result)\n",
    "        result.append(root.price)  # Store the price of the node\n",
    "        inorder_traversal(root.right, result)\n",
    "    return result\n",
    "\n",
    "def find_median(root):\n",
    "    nodes = inorder_traversal(root)\n",
    "    n = len(nodes)\n",
    "    return nodes[n // 2]\n",
    "\n",
    "def median_properties(bst):\n",
    "    median_price = find_median(bst.root)\n",
    "    node = bst.search(median_price)\n",
    "    print(f\"Median price: {median_price}\")\n",
    "    print(f\"{node.nb_properties()} property/ies priced at {node.price}.\")\n",
    "    return node.properties"
   ]
  },
  {
   "cell_type": "code",
   "execution_count": 506,
   "metadata": {},
   "outputs": [
    {
     "name": "stdout",
     "output_type": "stream",
     "text": [
      "Median price: 6581000\n",
      "1 property/ies priced at 6581000.\n"
     ]
    },
    {
     "data": {
      "text/plain": [
       "{'BLR-0216': Area                       1181\n",
       " Location               Horamavu\n",
       " No. of Bedrooms               2\n",
       " Resale                        0\n",
       " MaintenanceStaff              0\n",
       " Gymnasium                     1\n",
       " SwimmingPool                  1\n",
       " LandscapedGardens             1\n",
       " JoggingTrack                  1\n",
       " RainWaterHarvesting           1\n",
       " IndoorGames                   1\n",
       " ShoppingMall                  0\n",
       " Intercom                      1\n",
       " SportsFacility                1\n",
       " ATM                           0\n",
       " ClubHouse                     1\n",
       " School                        0\n",
       " 24X7Security                  1\n",
       " PowerBackup                   1\n",
       " CarParking                    1\n",
       " StaffQuarter                  0\n",
       " Cafeteria                     0\n",
       " MultipurposeRoom              1\n",
       " Hospital                      0\n",
       " WashingMachine                0\n",
       " Gasconnection                 0\n",
       " AC                            0\n",
       " Wifi                          0\n",
       " Children'splayarea            1\n",
       " LiftAvailable                 1\n",
       " BED                           0\n",
       " VaastuCompliant               0\n",
       " Microwave                     0\n",
       " GolfCourse                    0\n",
       " TV                            0\n",
       " DiningTable                   0\n",
       " Sofa                          0\n",
       " Wardrobe                      0\n",
       " Refrigerator                  0\n",
       " Name: 216, dtype: object}"
      ]
     },
     "execution_count": 506,
     "metadata": {},
     "output_type": "execute_result"
    }
   ],
   "source": [
    "median_properties(bangalore_bst)"
   ]
  },
  {
   "cell_type": "markdown",
   "metadata": {},
   "source": [
    "#### Properties at the cheapest price point."
   ]
  },
  {
   "cell_type": "code",
   "execution_count": 507,
   "metadata": {},
   "outputs": [],
   "source": [
    "def cheapest_properties(bst):\n",
    "    \"\"\" We traverse the tree always going towards the left child since the\n",
    "    price will be smaller.\"\"\"\n",
    "    node = bst.root\n",
    "    while node.left:\n",
    "        node = node.left\n",
    "    print(f\"Lowest price: {node.price}\")\n",
    "    print(f\"{node.nb_properties()} property/ies priced at {node.price}.\")\n",
    "    return node.properties"
   ]
  },
  {
   "cell_type": "code",
   "execution_count": 508,
   "metadata": {},
   "outputs": [
    {
     "name": "stdout",
     "output_type": "stream",
     "text": [
      "Lowest price: 2000000\n",
      "1 property/ies priced at 2000000.\n"
     ]
    },
    {
     "data": {
      "text/plain": [
       "{'BLR-5099': Area                            2730\n",
       " Location               Sarjapur Road\n",
       " No. of Bedrooms                    4\n",
       " Resale                             0\n",
       " MaintenanceStaff                   9\n",
       " Gymnasium                          9\n",
       " SwimmingPool                       9\n",
       " LandscapedGardens                  9\n",
       " JoggingTrack                       9\n",
       " RainWaterHarvesting                9\n",
       " IndoorGames                        9\n",
       " ShoppingMall                       9\n",
       " Intercom                           9\n",
       " SportsFacility                     9\n",
       " ATM                                9\n",
       " ClubHouse                          9\n",
       " School                             9\n",
       " 24X7Security                       9\n",
       " PowerBackup                        9\n",
       " CarParking                         9\n",
       " StaffQuarter                       9\n",
       " Cafeteria                          9\n",
       " MultipurposeRoom                   9\n",
       " Hospital                           9\n",
       " WashingMachine                     9\n",
       " Gasconnection                      9\n",
       " AC                                 9\n",
       " Wifi                               9\n",
       " Children'splayarea                 9\n",
       " LiftAvailable                      9\n",
       " BED                                9\n",
       " VaastuCompliant                    9\n",
       " Microwave                          9\n",
       " GolfCourse                         9\n",
       " TV                                 9\n",
       " DiningTable                        9\n",
       " Sofa                               9\n",
       " Wardrobe                           9\n",
       " Refrigerator                       9\n",
       " Name: 5099, dtype: object}"
      ]
     },
     "execution_count": 508,
     "metadata": {},
     "output_type": "execute_result"
    }
   ],
   "source": [
    "cheapest_properties(bangalore_bst)"
   ]
  },
  {
   "cell_type": "markdown",
   "metadata": {},
   "source": [
    "#### Properties at the most expensive price point."
   ]
  },
  {
   "cell_type": "code",
   "execution_count": 509,
   "metadata": {},
   "outputs": [],
   "source": [
    "def most_expensive_properties(bst):\n",
    "    \"\"\" We traverse the tree always going towards the left child since the\n",
    "    price will be smaller.\"\"\"\n",
    "    node = bst.root\n",
    "    while node.right:\n",
    "        node = node.right\n",
    "    print(f\"Highest price: {node.price}\")\n",
    "    print(f\"{node.nb_properties()} property/ies priced at {node.price}.\")\n",
    "    return node.properties"
   ]
  },
  {
   "cell_type": "code",
   "execution_count": 510,
   "metadata": {},
   "outputs": [
    {
     "name": "stdout",
     "output_type": "stream",
     "text": [
      "Highest price: 300000000\n",
      "1 property/ies priced at 300000000.\n"
     ]
    },
    {
     "data": {
      "text/plain": [
       "{'BLR-4834': Area                           785\n",
       " Location               Bommasandra\n",
       " No. of Bedrooms                  2\n",
       " Resale                           0\n",
       " MaintenanceStaff                 9\n",
       " Gymnasium                        9\n",
       " SwimmingPool                     9\n",
       " LandscapedGardens                9\n",
       " JoggingTrack                     9\n",
       " RainWaterHarvesting              9\n",
       " IndoorGames                      9\n",
       " ShoppingMall                     9\n",
       " Intercom                         9\n",
       " SportsFacility                   9\n",
       " ATM                              9\n",
       " ClubHouse                        9\n",
       " School                           9\n",
       " 24X7Security                     9\n",
       " PowerBackup                      9\n",
       " CarParking                       9\n",
       " StaffQuarter                     9\n",
       " Cafeteria                        9\n",
       " MultipurposeRoom                 9\n",
       " Hospital                         9\n",
       " WashingMachine                   9\n",
       " Gasconnection                    9\n",
       " AC                               9\n",
       " Wifi                             9\n",
       " Children'splayarea               9\n",
       " LiftAvailable                    9\n",
       " BED                              9\n",
       " VaastuCompliant                  9\n",
       " Microwave                        9\n",
       " GolfCourse                       9\n",
       " TV                               9\n",
       " DiningTable                      9\n",
       " Sofa                             9\n",
       " Wardrobe                         9\n",
       " Refrigerator                     9\n",
       " Name: 4834, dtype: object}"
      ]
     },
     "execution_count": 510,
     "metadata": {},
     "output_type": "execute_result"
    }
   ],
   "source": [
    "most_expensive_properties(bangalore_bst)"
   ]
  },
  {
   "cell_type": "markdown",
   "metadata": {},
   "source": [
    "## 2. Visualization"
   ]
  },
  {
   "cell_type": "markdown",
   "metadata": {},
   "source": []
  },
  {
   "cell_type": "markdown",
   "metadata": {},
   "source": [
    "## 3. Discussion: BST vs. other data structures"
   ]
  },
  {
   "cell_type": "markdown",
   "metadata": {},
   "source": [
    "#### Functions: "
   ]
  },
  {
   "cell_type": "code",
   "execution_count": 511,
   "metadata": {},
   "outputs": [],
   "source": [
    "def suppress_print(func):\n",
    "    \"\"\"Decorator to suppress print statements within a function\"\"\"\n",
    "    def wrapper(*args, **kwargs):\n",
    "        # Backup the original stdout\n",
    "        original_stdout = sys.stdout\n",
    "        # Redirect stdout to os.devnull to suppress print output\n",
    "        sys.stdout = open(os.devnull, 'w')\n",
    "        result = func(*args, **kwargs)\n",
    "        # Restore the original stdout\n",
    "        sys.stdout = original_stdout\n",
    "        return result\n",
    "    return wrapper"
   ]
  },
  {
   "cell_type": "code",
   "execution_count": 512,
   "metadata": {},
   "outputs": [],
   "source": [
    "def measure_runtime_with_BST_from_dataset(file_path, city=\"Bangalore\"):\n",
    "    \"\"\"\n",
    "    Measures runtime for min, max, and median queries for BST, Array, and Hash Table.\n",
    "    Suppresses print statements from the called functions.\n",
    "    :param file_path: Path to the CSV file.\n",
    "    :param city: City name for property ID generation.\n",
    "    :return: DataFrame summarizing runtimes for queries.\n",
    "    \"\"\"\n",
    "    # Load data from CSV\n",
    "    dataset = pd.read_csv(file_path)\n",
    "    results = []\n",
    "\n",
    "    # BST Test (Using BST_from_dataset)\n",
    "    start = time.time()\n",
    "    bst = suppress_print(BST_from_dataset)(city, dataset) \n",
    "    bst_time = (time.time() - start) * 1000\n",
    "\n",
    "    # Time for min, max, and median queries for BST\n",
    "    start = time.time()\n",
    "    suppress_print(median_properties)(bst)  # Suppress print output\n",
    "    suppress_print(cheapest_properties)(bst)  # Suppress print output\n",
    "    suppress_print(most_expensive_properties)(bst)  # Suppress print output\n",
    "    results.append({\"Data Structure\": \"BST\", \"Operation\": \"Min Query\", \"Time (ms)\": (time.time() - start) * 1000})\n",
    "    results.append({\"Data Structure\": \"BST\", \"Operation\": \"Max Query\", \"Time (ms)\": (time.time() - start) * 1000})\n",
    "    results.append({\"Data Structure\": \"BST\", \"Operation\": \"Median Query\", \"Time (ms)\": (time.time() - start) * 1000})\n",
    "\n",
    "    # Array Test\n",
    "    array = [(dataset.iloc[i]['Price'], f\"ID-{i}\", dataset.iloc[i][1:].to_dict()) for i in range(len(dataset))]\n",
    "\n",
    "    # Time for min, max, and median queries for Array\n",
    "    start = time.time()\n",
    "    min_price_array = min(array, key=lambda x: x[0])[0]  # Min price\n",
    "    max_price_array = max(array, key=lambda x: x[0])[0]  # Max price\n",
    "    sorted_array = sorted(array, key=lambda x: x[0])\n",
    "    median_price_array = sorted_array[len(sorted_array) // 2][0]  # Median price\n",
    "    array_queries_time = (time.time() - start) * 1000\n",
    "\n",
    "    results.append({\"Data Structure\": \"Array\", \"Operation\": \"Min Query\", \"Time (ms)\": array_queries_time})\n",
    "    results.append({\"Data Structure\": \"Array\", \"Operation\": \"Max Query\", \"Time (ms)\": array_queries_time})\n",
    "    results.append({\"Data Structure\": \"Array\", \"Operation\": \"Median Query\", \"Time (ms)\": array_queries_time})\n",
    "\n",
    "    # Hash Table Test\n",
    "    hash_table = {}\n",
    "    \n",
    "    # Check that 'Price' key is in every record\n",
    "    for i in range(len(dataset)):\n",
    "        property_data = dataset.iloc[i].to_dict()\n",
    "        if 'Price' in property_data:\n",
    "            hash_table[f\"ID-{i}\"] = property_data\n",
    "        else:\n",
    "            continue  # Skip the entry without 'Price'\n",
    "\n",
    "    # Time for min, max, and median queries for Hash Table\n",
    "    start = time.time()\n",
    "    try:\n",
    "        min_price_hash = min(hash_table.values(), key=lambda x: x['Price'])['Price']  # Min price\n",
    "        max_price_hash = max(hash_table.values(), key=lambda x: x['Price'])['Price']  # Max price\n",
    "        sorted_hash = sorted(hash_table.values(), key=lambda x: x['Price'])\n",
    "        median_price_hash = sorted_hash[len(sorted_hash) // 2]['Price']  # Median price\n",
    "    except KeyError as e:\n",
    "        return pd.DataFrame(results)  # Return the partial results if there's an error\n",
    "\n",
    "    hash_table_queries_time = (time.time() - start) * 1000\n",
    "\n",
    "    results.append({\"Data Structure\": \"Hash Table\", \"Operation\": \"Min Query\", \"Time (ms)\": hash_table_queries_time})\n",
    "    results.append({\"Data Structure\": \"Hash Table\", \"Operation\": \"Max Query\", \"Time (ms)\": hash_table_queries_time})\n",
    "    results.append({\"Data Structure\": \"Hash Table\", \"Operation\": \"Median Query\", \"Time (ms)\": hash_table_queries_time})\n",
    "\n",
    "    return pd.DataFrame(results)"
   ]
  },
  {
   "cell_type": "code",
   "execution_count": 513,
   "metadata": {},
   "outputs": [],
   "source": [
    "def plot_grouped_histogram(df):\n",
    "    # Pivot the DataFrame to group by Operation and Data Structure\n",
    "    pivot_df = df.pivot(index='Operation', columns='Data Structure', values='Time (ms)')\n",
    "    \n",
    "    # Plot the grouped histogram\n",
    "    pivot_df.plot(kind='bar', figsize=(10, 6), width=0.8)\n",
    "    \n",
    "    # Set the title and labels\n",
    "    plt.title(\"Query Time Comparison for Data Structures\")\n",
    "    plt.xlabel(\"Operation\")\n",
    "    plt.ylabel(\"Time (ms)\")\n",
    "    \n",
    "    # Rotate x-axis labels for better readability\n",
    "    plt.xticks(rotation=45, ha='right')\n",
    "\n",
    "    # Display the legend to differentiate between data structures\n",
    "    plt.legend(title=\"Data Structure\")\n",
    "    \n",
    "    # Make the layout tight for better visual presentation\n",
    "    plt.tight_layout()\n",
    "    \n",
    "    # Show the plot\n",
    "    plt.show()"
   ]
  },
  {
   "cell_type": "code",
   "execution_count": 514,
   "metadata": {},
   "outputs": [],
   "source": [
    "def plot_grouped_histogram_with_log_scale(df):\n",
    "    # Pivot the DataFrame to group by Operation and Data Structure\n",
    "    pivot_df = df.pivot(index='Operation', columns='Data Structure', values='Time (ms)')\n",
    "    \n",
    "    # Plot the grouped histogram\n",
    "    ax = pivot_df.plot(kind='bar', figsize=(10, 6), width=0.8)\n",
    "    \n",
    "    # Set the title and labels\n",
    "    plt.title(\"Query Time Comparison for Data Structures\")\n",
    "    plt.xlabel(\"Operation\")\n",
    "    plt.ylabel(\"Time (ms)\")\n",
    "\n",
    "    # Set the y-axis to a logarithmic scale\n",
    "    ax.set_yscale('log')\n",
    "\n",
    "    # Rotate x-axis labels for better readability\n",
    "    plt.xticks(rotation=45, ha='right')\n",
    "\n",
    "    # Display the legend to differentiate between data structures\n",
    "    plt.legend(title=\"Data Structure\")\n",
    "    \n",
    "    # Make the layout tight for better visual presentation\n",
    "    plt.tight_layout()\n",
    "    \n",
    "    # Show the plot\n",
    "    plt.show()\n"
   ]
  },
  {
   "cell_type": "markdown",
   "metadata": {},
   "source": [
    "#### Querying Time Comparison Results:"
   ]
  },
  {
   "cell_type": "code",
   "execution_count": 515,
   "metadata": {},
   "outputs": [
    {
     "data": {
      "text/html": [
       "<div>\n",
       "<style scoped>\n",
       "    .dataframe tbody tr th:only-of-type {\n",
       "        vertical-align: middle;\n",
       "    }\n",
       "\n",
       "    .dataframe tbody tr th {\n",
       "        vertical-align: top;\n",
       "    }\n",
       "\n",
       "    .dataframe thead th {\n",
       "        text-align: right;\n",
       "    }\n",
       "</style>\n",
       "<table border=\"1\" class=\"dataframe\">\n",
       "  <thead>\n",
       "    <tr style=\"text-align: right;\">\n",
       "      <th></th>\n",
       "      <th>Data Structure</th>\n",
       "      <th>Operation</th>\n",
       "      <th>Time (ms)</th>\n",
       "    </tr>\n",
       "  </thead>\n",
       "  <tbody>\n",
       "    <tr>\n",
       "      <th>0</th>\n",
       "      <td>BST</td>\n",
       "      <td>Min Query</td>\n",
       "      <td>1.281023</td>\n",
       "    </tr>\n",
       "    <tr>\n",
       "      <th>1</th>\n",
       "      <td>BST</td>\n",
       "      <td>Max Query</td>\n",
       "      <td>1.283407</td>\n",
       "    </tr>\n",
       "    <tr>\n",
       "      <th>2</th>\n",
       "      <td>BST</td>\n",
       "      <td>Median Query</td>\n",
       "      <td>1.283884</td>\n",
       "    </tr>\n",
       "    <tr>\n",
       "      <th>3</th>\n",
       "      <td>Array</td>\n",
       "      <td>Min Query</td>\n",
       "      <td>2.243519</td>\n",
       "    </tr>\n",
       "    <tr>\n",
       "      <th>4</th>\n",
       "      <td>Array</td>\n",
       "      <td>Max Query</td>\n",
       "      <td>2.243519</td>\n",
       "    </tr>\n",
       "    <tr>\n",
       "      <th>5</th>\n",
       "      <td>Array</td>\n",
       "      <td>Median Query</td>\n",
       "      <td>2.243519</td>\n",
       "    </tr>\n",
       "    <tr>\n",
       "      <th>6</th>\n",
       "      <td>Hash Table</td>\n",
       "      <td>Min Query</td>\n",
       "      <td>1.919508</td>\n",
       "    </tr>\n",
       "    <tr>\n",
       "      <th>7</th>\n",
       "      <td>Hash Table</td>\n",
       "      <td>Max Query</td>\n",
       "      <td>1.919508</td>\n",
       "    </tr>\n",
       "    <tr>\n",
       "      <th>8</th>\n",
       "      <td>Hash Table</td>\n",
       "      <td>Median Query</td>\n",
       "      <td>1.919508</td>\n",
       "    </tr>\n",
       "  </tbody>\n",
       "</table>\n",
       "</div>"
      ],
      "text/plain": [
       "  Data Structure     Operation  Time (ms)\n",
       "0            BST     Min Query   1.281023\n",
       "1            BST     Max Query   1.283407\n",
       "2            BST  Median Query   1.283884\n",
       "3          Array     Min Query   2.243519\n",
       "4          Array     Max Query   2.243519\n",
       "5          Array  Median Query   2.243519\n",
       "6     Hash Table     Min Query   1.919508\n",
       "7     Hash Table     Max Query   1.919508\n",
       "8     Hash Table  Median Query   1.919508"
      ]
     },
     "execution_count": 515,
     "metadata": {},
     "output_type": "execute_result"
    }
   ],
   "source": [
    "file_path = \"data/Bangalore.csv\" \n",
    "results_df = measure_runtime_with_BST_from_dataset(file_path)\n",
    "\n",
    "results_df"
   ]
  },
  {
   "cell_type": "code",
   "execution_count": 516,
   "metadata": {},
   "outputs": [
    {
     "data": {
      "image/png": "[encoded data removed]",
      "text/plain": [
       "<Figure size 1000x600 with 1 Axes>"
      ]
     },
     "metadata": {},
     "output_type": "display_data"
    }
   ],
   "source": [
    "plot_grouped_histogram(results_df)"
   ]
  },
  {
   "cell_type": "markdown",
   "metadata": {},
   "source": [
    "Binary Search Trees (BSTs) perform well with querying for minimum and maximum values due to the O(log n) complexity; however, it is slower when searching for the median due to the O(n) traversal required for an in-order search. Despite this, it is still faster than arrays and hash tables. \n",
    "\n",
    "Hash tables performs better than the arrays for querying minimum and maximum values but worse than the BSTs due to lack of ordering. Its median query performance is constrained by the need to sort the data but it is still faster than arrays despite occasionally being on par with the BSTs.\n",
    "\n",
    "Arrays perform slower for querying minimum and maximum values compared to BSTs and Hash Table, as it requires scanning the entire array. The median query is slower due to the need to sort the array, which is O(n log n), unless the array is already sorted.\n"
   ]
  },
  {
   "cell_type": "markdown",
   "metadata": {},
   "source": [
    "#### Insertion/Deletion Time Comparison Results:"
   ]
  },
  {
   "cell_type": "code",
   "execution_count": 517,
   "metadata": {},
   "outputs": [],
   "source": [
    "def measure_insertion_deletion_time(file_path, city=\"Bangalore\"):\n",
    "    \"\"\"\n",
    "    Measures runtime for insertion and deletion operations in BST, Array, and Hash Table.\n",
    "    Suppresses print statements from the called functions.\n",
    "    :param file_path: Path to the CSV file.\n",
    "    :param city: City name for property ID generation.\n",
    "    :return: DataFrame summarizing runtimes for insertion and deletion.\n",
    "    \"\"\"\n",
    "    # Load data from CSV\n",
    "    dataset = pd.read_csv(file_path)\n",
    "    results = []\n",
    "\n",
    "    # BST Test (Using BST_from_dataset)\n",
    "    start = time.time()\n",
    "    bst = suppress_print(BST_from_dataset)(city, dataset)  # Create BST and suppress print output\n",
    "    bst_insertion_time = (time.time() - start) * 1000\n",
    "\n",
    "    # Time for deletion in BST\n",
    "    start = time.time()\n",
    "    # After insertion, delete the property with the minimum price in BST\n",
    "    if bst.root is not None:\n",
    "        min_price = bst.root.price  # Let's delete the node with the minimum price\n",
    "        suppress_print(bst.delete_property)(min_price, None)  # Remove the property with the minimum price\n",
    "    bst_deletion_time = (time.time() - start) * 1000\n",
    "\n",
    "    results.append({\"Data Structure\": \"BST\", \"Operation\": \"Insertion\", \"Time (ms)\": bst_insertion_time})\n",
    "    results.append({\"Data Structure\": \"BST\", \"Operation\": \"Deletion\", \"Time (ms)\": bst_deletion_time})\n",
    "\n",
    "    # Array Test\n",
    "    array = [(dataset.iloc[i]['Price'], f\"ID-{i}\", dataset.iloc[i][1:].to_dict()) for i in range(len(dataset))]\n",
    "\n",
    "    # Time for insertion in Array\n",
    "    start = time.time()\n",
    "    array_insertion_time = (time.time() - start) * 1000\n",
    "\n",
    "    # Time for deletion in Array (we remove the minimum element)\n",
    "    start = time.time()\n",
    "    min_price_element = min(array, key=lambda x: x[0])  # Find the min priced element\n",
    "    array = [x for x in array if x[0] != min_price_element[0]]  # Delete min price element\n",
    "    array_deletion_time = (time.time() - start) * 1000\n",
    "\n",
    "    results.append({\"Data Structure\": \"Array\", \"Operation\": \"Insertion\", \"Time (ms)\": array_insertion_time})\n",
    "    results.append({\"Data Structure\": \"Array\", \"Operation\": \"Deletion\", \"Time (ms)\": array_deletion_time})\n",
    "\n",
    "    # Hash Table Test\n",
    "    hash_table = {}\n",
    "    \n",
    "    # Check that 'Price' key is in every record\n",
    "    for i in range(len(dataset)):\n",
    "        property_data = dataset.iloc[i].to_dict()\n",
    "        if 'Price' in property_data:\n",
    "            hash_table[f\"ID-{i}\"] = property_data\n",
    "        else:\n",
    "            continue  # Skip the entry without 'Price'\n",
    "\n",
    "    # Time for insertion in Hash Table\n",
    "    start = time.time()\n",
    "    hash_table_insertion_time = (time.time() - start) * 1000\n",
    "\n",
    "    # Time for deletion in Hash Table (we remove the min priced property)\n",
    "    start = time.time()\n",
    "    min_price_key = min(hash_table, key=lambda x: hash_table[x]['Price'])\n",
    "    del hash_table[min_price_key]  # Delete the entry with the min price\n",
    "    hash_table_deletion_time = (time.time() - start) * 1000\n",
    "\n",
    "    results.append({\"Data Structure\": \"Hash Table\", \"Operation\": \"Insertion\", \"Time (ms)\": hash_table_insertion_time})\n",
    "    results.append({\"Data Structure\": \"Hash Table\", \"Operation\": \"Deletion\", \"Time (ms)\": hash_table_deletion_time})\n",
    "\n",
    "    return pd.DataFrame(results)"
   ]
  },
  {
   "cell_type": "code",
   "execution_count": 518,
   "metadata": {},
   "outputs": [
    {
     "data": {
      "text/html": [
       "<div>\n",
       "<style scoped>\n",
       "    .dataframe tbody tr th:only-of-type {\n",
       "        vertical-align: middle;\n",
       "    }\n",
       "\n",
       "    .dataframe tbody tr th {\n",
       "        vertical-align: top;\n",
       "    }\n",
       "\n",
       "    .dataframe thead th {\n",
       "        text-align: right;\n",
       "    }\n",
       "</style>\n",
       "<table border=\"1\" class=\"dataframe\">\n",
       "  <thead>\n",
       "    <tr style=\"text-align: right;\">\n",
       "      <th></th>\n",
       "      <th>Data Structure</th>\n",
       "      <th>Operation</th>\n",
       "      <th>Time (ms)</th>\n",
       "    </tr>\n",
       "  </thead>\n",
       "  <tbody>\n",
       "    <tr>\n",
       "      <th>0</th>\n",
       "      <td>BST</td>\n",
       "      <td>Insertion</td>\n",
       "      <td>865.406513</td>\n",
       "    </tr>\n",
       "    <tr>\n",
       "      <th>1</th>\n",
       "      <td>BST</td>\n",
       "      <td>Deletion</td>\n",
       "      <td>0.082731</td>\n",
       "    </tr>\n",
       "    <tr>\n",
       "      <th>2</th>\n",
       "      <td>Array</td>\n",
       "      <td>Insertion</td>\n",
       "      <td>0.000715</td>\n",
       "    </tr>\n",
       "    <tr>\n",
       "      <th>3</th>\n",
       "      <td>Array</td>\n",
       "      <td>Deletion</td>\n",
       "      <td>0.492811</td>\n",
       "    </tr>\n",
       "    <tr>\n",
       "      <th>4</th>\n",
       "      <td>Hash Table</td>\n",
       "      <td>Insertion</td>\n",
       "      <td>0.000715</td>\n",
       "    </tr>\n",
       "    <tr>\n",
       "      <th>5</th>\n",
       "      <td>Hash Table</td>\n",
       "      <td>Deletion</td>\n",
       "      <td>0.486612</td>\n",
       "    </tr>\n",
       "  </tbody>\n",
       "</table>\n",
       "</div>"
      ],
      "text/plain": [
       "  Data Structure  Operation   Time (ms)\n",
       "0            BST  Insertion  865.406513\n",
       "1            BST   Deletion    0.082731\n",
       "2          Array  Insertion    0.000715\n",
       "3          Array   Deletion    0.492811\n",
       "4     Hash Table  Insertion    0.000715\n",
       "5     Hash Table   Deletion    0.486612"
      ]
     },
     "execution_count": 518,
     "metadata": {},
     "output_type": "execute_result"
    }
   ],
   "source": [
    "insert_df = measure_insertion_deletion_time(file_path)\n",
    "insert_df"
   ]
  },
  {
   "cell_type": "code",
   "execution_count": 519,
   "metadata": {},
   "outputs": [
    {
     "data": {
      "image/png": "[encoded data removed]",
      "text/plain": [
       "<Figure size 1000x600 with 1 Axes>"
      ]
     },
     "metadata": {},
     "output_type": "display_data"
    }
   ],
   "source": [
    "plot_grouped_histogram_with_log_scale(insert_df)"
   ]
  },
  {
   "cell_type": "markdown",
   "metadata": {},
   "source": [
    "BSTs are slower for insertion due to the structural balancing requirements, but it's more efficient than arrays and hash tables. \n",
    "\n",
    "Arrays are more efficient for insertion, but the deletion is more expensive because of the element shifting. \n",
    "\n",
    "Hash tables are the most efficient overall for insertion and deletion, given the O(1) time complexity on average."
   ]
  }
 ],
 "metadata": {
  "kernelspec": {
   "display_name": "base",
   "language": "python",
   "name": "python3"
  },
  "language_info": {
   "codemirror_mode": {
    "name": "ipython",
    "version": 3
   },
   "file_extension": ".py",
   "mimetype": "text/x-python",
   "name": "python",
   "nbconvert_exporter": "python",
   "pygments_lexer": "ipython3",
   "version": "3.11.3"
  }
 },
 "nbformat": 4,
 "nbformat_minor": 2
}
