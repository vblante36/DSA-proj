{
 "cells": [
  {
   "cell_type": "markdown",
   "metadata": {},
   "source": [
    "# Data Structures and Algorithms Final Project\n",
    "#### Authors: Victoria Blante, Chelyah Miller, Emma Juan Salazar\n",
    "#### Date Created: 11/29/2024\n",
    "#### Last Edited: 12/4/2024"
   ]
  },
  {
   "cell_type": "markdown",
   "metadata": {},
   "source": [
    "## Library Importation"
   ]
  },
  {
   "cell_type": "markdown",
   "metadata": {},
   "source": [
    "### Why Use Graphviz for Visualizing a Binary Search Tree (BST)?\n",
    "\n",
    "In this project, we use the `graphviz` package to create graphical representations of a Binary Search Tree (BST). Visualizing the BST helps in understanding its structure and how nodes are connected. By limiting the depth of the tree, we can focus on smaller portions of the tree, making it easier to explore and debug.\n",
    "\n",
    "- **Visual Representation**: The graphical output shows the tree nodes and edges, making it easier to understand relationships between them.\n",
    "- **Manageability**: Limiting the depth ensures that the visualization remains simple and manageable, especially for large trees.\n",
    "- **Educational & Debugging Tool**: This visualization is useful for both educational purposes and debugging, helping to clearly display how data is organized and how different operations (like insertion) affect the tree.\n",
    "\n",
    "By using Graphviz, we can generate tree diagrams directly in Jupyter Notebooks, enhancing our ability to interact with and analyze the data structure in real time.\n",
    "\n",
    "### Installation Instructions\n",
    "\n",
    "If you don't have `graphviz` installed, you can install it by running the following commands:\n",
    "\n",
    "```bash\n",
    "!pip install graphviz\n"
   ]
  },
  {
   "cell_type": "code",
   "execution_count": 49,
   "metadata": {},
   "outputs": [],
   "source": [
    "# Install Graphviz and Python bindings for Graphviz\n",
    "# !pip install graphviz"
   ]
  },
  {
   "cell_type": "code",
   "execution_count": 50,
   "metadata": {},
   "outputs": [],
   "source": [
    "import os\n",
    "import sys\n",
    "import time\n",
    "import random\n",
    "import pandas as pd\n",
    "import numpy as np\n",
    "import matplotlib.pyplot as plt\n",
    "from time import perf_counter as timer\n",
    "from graphviz import Digraph, Source\n",
    "\n",
    "%config InlineBackend.figure_format = 'retina'\n"
   ]
  },
  {
   "cell_type": "markdown",
   "metadata": {},
   "source": [
    "## The Real Estate Market in India: Organizing a dataset with a Binary Search Tree"
   ]
  },
  {
   "cell_type": "markdown",
   "metadata": {},
   "source": [
    "This dataset contains real estate property listings from different parts of India. The dataset includes a variety of properties, with each entry containing information such as the price, location, area, and several features like the number of bedrooms, gym availability, and parking facilities. The dataset serves as a representation of the available properties in Bangalore, focusing on both resale and new properties.\n"
   ]
  },
  {
   "cell_type": "markdown",
   "metadata": {},
   "source": [
    "#### The datasets found here: [Housing Prices in Metropolitan Areas of India](https://www.kaggle.com/datasets/ruchi798/housing-prices-in-metropolitan-areas-of-india)"
   ]
  },
  {
   "cell_type": "markdown",
   "metadata": {},
   "source": [
    "### Taking a look at one dataset"
   ]
  },
  {
   "cell_type": "code",
   "execution_count": 51,
   "metadata": {},
   "outputs": [],
   "source": [
    "bangalore = pd.read_csv(\"data/Bangalore.csv\")"
   ]
  },
  {
   "cell_type": "code",
   "execution_count": 52,
   "metadata": {},
   "outputs": [
    {
     "data": {
      "text/html": [
       "<div>\n",
       "<style scoped>\n",
       "    .dataframe tbody tr th:only-of-type {\n",
       "        vertical-align: middle;\n",
       "    }\n",
       "\n",
       "    .dataframe tbody tr th {\n",
       "        vertical-align: top;\n",
       "    }\n",
       "\n",
       "    .dataframe thead th {\n",
       "        text-align: right;\n",
       "    }\n",
       "</style>\n",
       "<table border=\"1\" class=\"dataframe\">\n",
       "  <thead>\n",
       "    <tr style=\"text-align: right;\">\n",
       "      <th></th>\n",
       "      <th>Price</th>\n",
       "      <th>Area</th>\n",
       "      <th>Location</th>\n",
       "      <th>No. of Bedrooms</th>\n",
       "      <th>Resale</th>\n",
       "      <th>MaintenanceStaff</th>\n",
       "      <th>Gymnasium</th>\n",
       "      <th>SwimmingPool</th>\n",
       "      <th>LandscapedGardens</th>\n",
       "      <th>JoggingTrack</th>\n",
       "      <th>...</th>\n",
       "      <th>LiftAvailable</th>\n",
       "      <th>BED</th>\n",
       "      <th>VaastuCompliant</th>\n",
       "      <th>Microwave</th>\n",
       "      <th>GolfCourse</th>\n",
       "      <th>TV</th>\n",
       "      <th>DiningTable</th>\n",
       "      <th>Sofa</th>\n",
       "      <th>Wardrobe</th>\n",
       "      <th>Refrigerator</th>\n",
       "    </tr>\n",
       "  </thead>\n",
       "  <tbody>\n",
       "    <tr>\n",
       "      <th>0</th>\n",
       "      <td>30000000</td>\n",
       "      <td>3340</td>\n",
       "      <td>JP Nagar Phase 1</td>\n",
       "      <td>4</td>\n",
       "      <td>0</td>\n",
       "      <td>1</td>\n",
       "      <td>1</td>\n",
       "      <td>1</td>\n",
       "      <td>1</td>\n",
       "      <td>1</td>\n",
       "      <td>...</td>\n",
       "      <td>1</td>\n",
       "      <td>0</td>\n",
       "      <td>0</td>\n",
       "      <td>0</td>\n",
       "      <td>0</td>\n",
       "      <td>0</td>\n",
       "      <td>0</td>\n",
       "      <td>0</td>\n",
       "      <td>0</td>\n",
       "      <td>0</td>\n",
       "    </tr>\n",
       "    <tr>\n",
       "      <th>1</th>\n",
       "      <td>7888000</td>\n",
       "      <td>1045</td>\n",
       "      <td>Dasarahalli on Tumkur Road</td>\n",
       "      <td>2</td>\n",
       "      <td>0</td>\n",
       "      <td>0</td>\n",
       "      <td>1</td>\n",
       "      <td>1</td>\n",
       "      <td>1</td>\n",
       "      <td>1</td>\n",
       "      <td>...</td>\n",
       "      <td>1</td>\n",
       "      <td>0</td>\n",
       "      <td>1</td>\n",
       "      <td>0</td>\n",
       "      <td>0</td>\n",
       "      <td>0</td>\n",
       "      <td>0</td>\n",
       "      <td>0</td>\n",
       "      <td>0</td>\n",
       "      <td>0</td>\n",
       "    </tr>\n",
       "    <tr>\n",
       "      <th>2</th>\n",
       "      <td>4866000</td>\n",
       "      <td>1179</td>\n",
       "      <td>Kannur on Thanisandra Main Road</td>\n",
       "      <td>2</td>\n",
       "      <td>0</td>\n",
       "      <td>0</td>\n",
       "      <td>1</td>\n",
       "      <td>1</td>\n",
       "      <td>1</td>\n",
       "      <td>1</td>\n",
       "      <td>...</td>\n",
       "      <td>1</td>\n",
       "      <td>0</td>\n",
       "      <td>0</td>\n",
       "      <td>0</td>\n",
       "      <td>0</td>\n",
       "      <td>0</td>\n",
       "      <td>0</td>\n",
       "      <td>0</td>\n",
       "      <td>0</td>\n",
       "      <td>0</td>\n",
       "    </tr>\n",
       "    <tr>\n",
       "      <th>3</th>\n",
       "      <td>8358000</td>\n",
       "      <td>1675</td>\n",
       "      <td>Doddanekundi</td>\n",
       "      <td>3</td>\n",
       "      <td>0</td>\n",
       "      <td>0</td>\n",
       "      <td>0</td>\n",
       "      <td>0</td>\n",
       "      <td>0</td>\n",
       "      <td>0</td>\n",
       "      <td>...</td>\n",
       "      <td>1</td>\n",
       "      <td>0</td>\n",
       "      <td>0</td>\n",
       "      <td>0</td>\n",
       "      <td>0</td>\n",
       "      <td>0</td>\n",
       "      <td>0</td>\n",
       "      <td>0</td>\n",
       "      <td>0</td>\n",
       "      <td>0</td>\n",
       "    </tr>\n",
       "    <tr>\n",
       "      <th>4</th>\n",
       "      <td>6845000</td>\n",
       "      <td>1670</td>\n",
       "      <td>Kengeri</td>\n",
       "      <td>3</td>\n",
       "      <td>0</td>\n",
       "      <td>1</td>\n",
       "      <td>1</td>\n",
       "      <td>1</td>\n",
       "      <td>1</td>\n",
       "      <td>1</td>\n",
       "      <td>...</td>\n",
       "      <td>1</td>\n",
       "      <td>0</td>\n",
       "      <td>0</td>\n",
       "      <td>0</td>\n",
       "      <td>0</td>\n",
       "      <td>0</td>\n",
       "      <td>0</td>\n",
       "      <td>0</td>\n",
       "      <td>0</td>\n",
       "      <td>0</td>\n",
       "    </tr>\n",
       "  </tbody>\n",
       "</table>\n",
       "<p>5 rows × 40 columns</p>\n",
       "</div>"
      ],
      "text/plain": [
       "      Price  Area                         Location  No. of Bedrooms  Resale  \\\n",
       "0  30000000  3340                 JP Nagar Phase 1                4       0   \n",
       "1   7888000  1045       Dasarahalli on Tumkur Road                2       0   \n",
       "2   4866000  1179  Kannur on Thanisandra Main Road                2       0   \n",
       "3   8358000  1675                     Doddanekundi                3       0   \n",
       "4   6845000  1670                          Kengeri                3       0   \n",
       "\n",
       "   MaintenanceStaff  Gymnasium  SwimmingPool  LandscapedGardens  JoggingTrack  \\\n",
       "0                 1          1             1                  1             1   \n",
       "1                 0          1             1                  1             1   \n",
       "2                 0          1             1                  1             1   \n",
       "3                 0          0             0                  0             0   \n",
       "4                 1          1             1                  1             1   \n",
       "\n",
       "   ...  LiftAvailable  BED  VaastuCompliant  Microwave  GolfCourse  TV  \\\n",
       "0  ...              1    0                0          0           0   0   \n",
       "1  ...              1    0                1          0           0   0   \n",
       "2  ...              1    0                0          0           0   0   \n",
       "3  ...              1    0                0          0           0   0   \n",
       "4  ...              1    0                0          0           0   0   \n",
       "\n",
       "   DiningTable  Sofa  Wardrobe  Refrigerator  \n",
       "0            0     0         0             0  \n",
       "1            0     0         0             0  \n",
       "2            0     0         0             0  \n",
       "3            0     0         0             0  \n",
       "4            0     0         0             0  \n",
       "\n",
       "[5 rows x 40 columns]"
      ]
     },
     "execution_count": 52,
     "metadata": {},
     "output_type": "execute_result"
    }
   ],
   "source": [
    "bangalore.head()"
   ]
  },
  {
   "cell_type": "code",
   "execution_count": 53,
   "metadata": {},
   "outputs": [
    {
     "name": "stdout",
     "output_type": "stream",
     "text": [
      "<class 'pandas.core.frame.DataFrame'>\n",
      "RangeIndex: 6207 entries, 0 to 6206\n",
      "Data columns (total 40 columns):\n",
      " #   Column               Non-Null Count  Dtype \n",
      "---  ------               --------------  ----- \n",
      " 0   Price                6207 non-null   int64 \n",
      " 1   Area                 6207 non-null   int64 \n",
      " 2   Location             6207 non-null   object\n",
      " 3   No. of Bedrooms      6207 non-null   int64 \n",
      " 4   Resale               6207 non-null   int64 \n",
      " 5   MaintenanceStaff     6207 non-null   int64 \n",
      " 6   Gymnasium            6207 non-null   int64 \n",
      " 7   SwimmingPool         6207 non-null   int64 \n",
      " 8   LandscapedGardens    6207 non-null   int64 \n",
      " 9   JoggingTrack         6207 non-null   int64 \n",
      " 10  RainWaterHarvesting  6207 non-null   int64 \n",
      " 11  IndoorGames          6207 non-null   int64 \n",
      " 12  ShoppingMall         6207 non-null   int64 \n",
      " 13  Intercom             6207 non-null   int64 \n",
      " 14  SportsFacility       6207 non-null   int64 \n",
      " 15  ATM                  6207 non-null   int64 \n",
      " 16  ClubHouse            6207 non-null   int64 \n",
      " 17  School               6207 non-null   int64 \n",
      " 18  24X7Security         6207 non-null   int64 \n",
      " 19  PowerBackup          6207 non-null   int64 \n",
      " 20  CarParking           6207 non-null   int64 \n",
      " 21  StaffQuarter         6207 non-null   int64 \n",
      " 22  Cafeteria            6207 non-null   int64 \n",
      " 23  MultipurposeRoom     6207 non-null   int64 \n",
      " 24  Hospital             6207 non-null   int64 \n",
      " 25  WashingMachine       6207 non-null   int64 \n",
      " 26  Gasconnection        6207 non-null   int64 \n",
      " 27  AC                   6207 non-null   int64 \n",
      " 28  Wifi                 6207 non-null   int64 \n",
      " 29  Children'splayarea   6207 non-null   int64 \n",
      " 30  LiftAvailable        6207 non-null   int64 \n",
      " 31  BED                  6207 non-null   int64 \n",
      " 32  VaastuCompliant      6207 non-null   int64 \n",
      " 33  Microwave            6207 non-null   int64 \n",
      " 34  GolfCourse           6207 non-null   int64 \n",
      " 35  TV                   6207 non-null   int64 \n",
      " 36  DiningTable          6207 non-null   int64 \n",
      " 37  Sofa                 6207 non-null   int64 \n",
      " 38  Wardrobe             6207 non-null   int64 \n",
      " 39  Refrigerator         6207 non-null   int64 \n",
      "dtypes: int64(39), object(1)\n",
      "memory usage: 1.9+ MB\n"
     ]
    }
   ],
   "source": [
    "bangalore.info()"
   ]
  },
  {
   "cell_type": "markdown",
   "metadata": {},
   "source": [
    "#### Key Features:\n",
    "- Price: The listing price of the property.\n",
    "- Area: The size of the property in square feet.\n",
    "- Location: The locality where the property is located.\n",
    "- No. of Bedrooms: The number of bedrooms in the property.\n",
    "- Amenities: Information about available amenities such as the gym, swimming pool, 24x7 security, etc."
   ]
  },
  {
   "cell_type": "markdown",
   "metadata": {},
   "source": [
    "We'll use **Price** as the variable by which to organize this dataset."
   ]
  },
  {
   "cell_type": "markdown",
   "metadata": {},
   "source": [
    "This is what extracting one property from the dataset (saved as a pandas DataFrame) would look like."
   ]
  },
  {
   "cell_type": "code",
   "execution_count": 54,
   "metadata": {},
   "outputs": [],
   "source": [
    "property = bangalore.iloc[0]"
   ]
  },
  {
   "cell_type": "code",
   "execution_count": 55,
   "metadata": {},
   "outputs": [
    {
     "data": {
      "text/plain": [
       "Price                          30000000\n",
       "Area                               3340\n",
       "Location               JP Nagar Phase 1\n",
       "No. of Bedrooms                       4\n",
       "Resale                                0\n",
       "MaintenanceStaff                      1\n",
       "Gymnasium                             1\n",
       "SwimmingPool                          1\n",
       "LandscapedGardens                     1\n",
       "JoggingTrack                          1\n",
       "RainWaterHarvesting                   1\n",
       "IndoorGames                           1\n",
       "ShoppingMall                          0\n",
       "Intercom                              1\n",
       "SportsFacility                        1\n",
       "ATM                                   0\n",
       "ClubHouse                             1\n",
       "School                                0\n",
       "24X7Security                          1\n",
       "PowerBackup                           1\n",
       "CarParking                            0\n",
       "StaffQuarter                          0\n",
       "Cafeteria                             0\n",
       "MultipurposeRoom                      0\n",
       "Hospital                              0\n",
       "WashingMachine                        0\n",
       "Gasconnection                         0\n",
       "AC                                    0\n",
       "Wifi                                  0\n",
       "Children'splayarea                    1\n",
       "LiftAvailable                         1\n",
       "BED                                   0\n",
       "VaastuCompliant                       0\n",
       "Microwave                             0\n",
       "GolfCourse                            0\n",
       "TV                                    0\n",
       "DiningTable                           0\n",
       "Sofa                                  0\n",
       "Wardrobe                              0\n",
       "Refrigerator                          0\n",
       "Name: 0, dtype: object"
      ]
     },
     "execution_count": 55,
     "metadata": {},
     "output_type": "execute_result"
    }
   ],
   "source": [
    "property"
   ]
  },
  {
   "cell_type": "code",
   "execution_count": 56,
   "metadata": {},
   "outputs": [
    {
     "data": {
      "text/plain": [
       "30000000"
      ]
     },
     "execution_count": 56,
     "metadata": {},
     "output_type": "execute_result"
    }
   ],
   "source": [
    "property['Price']"
   ]
  },
  {
   "cell_type": "code",
   "execution_count": 57,
   "metadata": {},
   "outputs": [
    {
     "data": {
      "text/plain": [
       "Area                               3340\n",
       "Location               JP Nagar Phase 1\n",
       "No. of Bedrooms                       4\n",
       "Resale                                0\n",
       "MaintenanceStaff                      1\n",
       "Gymnasium                             1\n",
       "SwimmingPool                          1\n",
       "LandscapedGardens                     1\n",
       "JoggingTrack                          1\n",
       "RainWaterHarvesting                   1\n",
       "IndoorGames                           1\n",
       "ShoppingMall                          0\n",
       "Intercom                              1\n",
       "SportsFacility                        1\n",
       "ATM                                   0\n",
       "ClubHouse                             1\n",
       "School                                0\n",
       "24X7Security                          1\n",
       "PowerBackup                           1\n",
       "CarParking                            0\n",
       "StaffQuarter                          0\n",
       "Cafeteria                             0\n",
       "MultipurposeRoom                      0\n",
       "Hospital                              0\n",
       "WashingMachine                        0\n",
       "Gasconnection                         0\n",
       "AC                                    0\n",
       "Wifi                                  0\n",
       "Children'splayarea                    1\n",
       "LiftAvailable                         1\n",
       "BED                                   0\n",
       "VaastuCompliant                       0\n",
       "Microwave                             0\n",
       "GolfCourse                            0\n",
       "TV                                    0\n",
       "DiningTable                           0\n",
       "Sofa                                  0\n",
       "Wardrobe                              0\n",
       "Refrigerator                          0\n",
       "Name: 0, dtype: object"
      ]
     },
     "execution_count": 57,
     "metadata": {},
     "output_type": "execute_result"
    }
   ],
   "source": [
    "property[1:]"
   ]
  },
  {
   "cell_type": "markdown",
   "metadata": {},
   "source": [
    "### Property IDs"
   ]
  },
  {
   "cell_type": "markdown",
   "metadata": {},
   "source": [
    "We'll define an ID for each propertie so we have a string that's unique to each one.\n",
    "\n",
    "We'll use the city and the index in the csv file.\n",
    "\n",
    "To identify the cities we'll use City Codes (Airport IATA Codes).\n",
    "\n",
    "These codes are commonly used for airports but often represent the city as a whole:\n",
    "\n",
    "- Bangalore: BLR (Kempegowda International Airport)\n",
    "- Chennai: MAA (Chennai International Airport)\n",
    "- Delhi: DEL (Indira Gandhi International Airport)\n",
    "- Hyderabad: HYD (Rajiv Gandhi International Airport)\n",
    "- Kolkata: CCU (Netaji Subhas Chandra Bose International Airport)\n",
    "- Mumbai: BOM (Chhatrapati Shivaji Maharaj International Airport)\n",
    "\n",
    "And for the index of the property in the csv file we'll use numbers from 1 to 9999 (since the longest of our datasets has approx 7k lines).\n",
    "\n",
    "We'll pad this number so it's 4 digits."
   ]
  },
  {
   "cell_type": "code",
   "execution_count": 58,
   "metadata": {},
   "outputs": [],
   "source": [
    "def property_id(city: str, index: int):\n",
    "    city_codes = {\"bangalore\": \"BLR\", \"chennai\": \"MAA\", \"delhi\": \"DEL\",\n",
    "                  \"hyderabad\": \"HYD\", \"kolkata\": \"CCU\", \"mumbai\": \"BOM\"}\n",
    "    return f\"{city_codes[city.lower()]}-{str(index).zfill(4)}\""
   ]
  },
  {
   "cell_type": "code",
   "execution_count": 59,
   "metadata": {},
   "outputs": [
    {
     "data": {
      "text/plain": [
       "'BLR-0032'"
      ]
     },
     "execution_count": 59,
     "metadata": {},
     "output_type": "execute_result"
    }
   ],
   "source": [
    "property_id(\"Bangalore\", 32)"
   ]
  },
  {
   "cell_type": "markdown",
   "metadata": {},
   "source": [
    "## 1. Implementation of the BST"
   ]
  },
  {
   "cell_type": "markdown",
   "metadata": {},
   "source": [
    "### Defining the BST structure"
   ]
  },
  {
   "cell_type": "markdown",
   "metadata": {},
   "source": [
    "First we'll define a **Node**.\n",
    "\n",
    "This is the object that makes up our BST.\n",
    "\n",
    "In our case, each node will represent a **Price Point**. To each of these nodes, we'll attach however many properties are currently at that price point."
   ]
  },
  {
   "cell_type": "code",
   "execution_count": 60,
   "metadata": {},
   "outputs": [],
   "source": [
    "class Node:\n",
    "\tdef __init__(self, price: int, id: str, details: pd.Series):\n",
    "\t\t\"\"\"\n",
    "\t\tA TreeNode has three main attributes:\n",
    "\t\t\t- a key\n",
    "\t\t\t- a pointer to the left child\n",
    "\t\t\t- a pointer to the right child\n",
    "\t\tWe'll add variable that will store all properties this price point.\n",
    "\t\tWhen initializing, we need at least one property per price point.\n",
    "\t\tEach property:\n",
    "\t\t\t- is identified by their id\n",
    "\t\t\t- has a series of characteristics stored in a pandas Series\n",
    "\t\t\"\"\"\n",
    "\t\tself.price = price\n",
    "\t\tself.left = None\n",
    "\t\tself.right = None\n",
    "\t\tself.height = 1 \n",
    "\t\tself.properties = {id: details}\n",
    "\n",
    "\tdef add_property(self, id: str, details: pd.Series):\n",
    "\t\t\"\"\"\n",
    "\t\tThis method will add a property to the node.\n",
    "\t\t- We'll use the id to identify the property\n",
    "\t\t- We'll store the details of the property in the form of a pd.Series\n",
    "\t\t\"\"\"\n",
    "\t\tself.properties[id] = details\n",
    "\n",
    "\tdef delete_property(self, id: str):\n",
    "\t\tif id in self.properties:\n",
    "\t\t\tdel self.properties[id]\n",
    "\t\telse:\n",
    "\t\t\tprint(f\"Property {id} not found at price point {self.price}\")\n",
    "\n",
    "\tdef property_ids(self):\n",
    "\t\t\"\"\" Get a list of the IDs of all the properties at this price point \"\"\"\n",
    "\t\treturn list(self.properties.keys())\n",
    "\t\n",
    "\tdef nb_properties(self):\n",
    "\t\t\"\"\" Get the number of properties at this nodes' price point \"\"\"\n",
    "\t\treturn len(self.properties)"
   ]
  },
  {
   "cell_type": "code",
   "execution_count": 61,
   "metadata": {},
   "outputs": [],
   "source": [
    "class BinarySearchTree:\n",
    "\tdef __init__(self):\n",
    "\t\tself.root = None\n",
    "\n",
    "\t# INSERT a property\n",
    "\tdef insert(self, price: int, id: str, details: pd.Series):\n",
    "\t\tself.root = self._insert(self.root, price, id, details)\n",
    "\n",
    "\tdef _insert(self, root, price: int, id: str, details: pd.Series):\n",
    "\t\t\"\"\" We recursively traverse the tree to find where to add our new\n",
    "\t\tproperty in the correct price point \"\"\"\n",
    "\t\tif root is None:\n",
    "\t\t\treturn Node(price, id, details)\n",
    "\t\tif price < root.price:\n",
    "\t\t\troot.left = self._insert(root.left, price, id, details)\n",
    "\t\telif price > root.price:\n",
    "\t\t\troot.right = self._insert(root.right, price, id, details)\n",
    "\t\telse:\n",
    "\t\t\t# in case a node with the current price exists, we add the property\n",
    "\t\t\troot.add_property(id, details)\n",
    "\t\t\n",
    "\t\troot.height = 1 + max(self.get_height(root.left), self.get_height(root.right))\n",
    "\n",
    "\t\tbalance = self.get_balance(root)\n",
    "\n",
    "\t\t# Left-Left (Rotate Right)\n",
    "\t\tif balance > 1 and price < root.left.price:\n",
    "\t\t\treturn self.rotate_right(root)\n",
    "\n",
    "\t\t# Right-Right (Rotate Left)\n",
    "\t\tif balance < -1 and price > root.right.price:\n",
    "\t\t\treturn self.rotate_left(root)\n",
    "\n",
    "\t\t# Left-Right (Left Rotate, then Right Rotate)\n",
    "\t\tif balance > 1 and price > root.left.price:\n",
    "\t\t\troot.left = self.rotate_left(root.left)\n",
    "\t\t\treturn self.rotate_right(root)\n",
    "\n",
    "\t\t# Right-Left (Right Rotate, then Left Rotate)\n",
    "\t\tif balance < -1 and price < root.right.price:\n",
    "\t\t\troot.right = self.rotate_right(root.right)\n",
    "\t\t\treturn self.rotate_left(root)\n",
    "\t\t\n",
    "\t\treturn root\n",
    "\n",
    "\t#BALANCING HELPERS\n",
    "\tdef get_height(self, node):\n",
    "\t\tif not node:\n",
    "\t\t\treturn 0\n",
    "\t\t\n",
    "\t\treturn node.height\n",
    "\n",
    "    # Get balance factor of a node\n",
    "\tdef get_balance(self, node):\n",
    "\t\tif not node:\n",
    "\t\t\treturn 0\n",
    "\t\treturn self.get_height(node.left) - self.get_height(node.right)\n",
    "\n",
    "    # Right rotation\n",
    "\tdef rotate_right(self, z):\n",
    "\t\ty = z.left\n",
    "\t\tT3 = y.right\n",
    "\n",
    "\t\t# Perform rotation\n",
    "\t\ty.right = z\n",
    "\t\tz.left = T3\n",
    "\n",
    "\t\t# Update heights\n",
    "\t\tz.height = 1 + max(self.get_height(z.left), self.get_height(z.right))\n",
    "\t\ty.height = 1 + max(self.get_height(y.left), self.get_height(y.right))\n",
    "\n",
    "\t\t# Return new root\n",
    "\t\treturn y\n",
    "\n",
    "    # Left rotation\n",
    "\tdef rotate_left(self, z):\n",
    "\t\ty = z.right\n",
    "\t\tT2 = y.left\n",
    "\n",
    "\t\t# Perform rotation\n",
    "\t\ty.left = z\n",
    "\t\tz.right = T2\n",
    "\n",
    "\t\t# Update heights\n",
    "\t\tz.height = 1 + max(self.get_height(z.left), self.get_height(z.right))\n",
    "\t\ty.height = 1 + max(self.get_height(y.left), self.get_height(y.right))\n",
    "\n",
    "\t\t# Return new root\n",
    "\t\treturn y\n",
    "\n",
    "\t# SEARCH: method -> Binary Search Algorithm\n",
    "\tdef search(self, price):\n",
    "\t\treturn self._search(self.root, price)\n",
    "\n",
    "\tdef _search(self, root, price):\n",
    "\t\t\"\"\" We recursively traverse the tree until we find a the node at the\n",
    "\t\tspecified price point \"\"\"\n",
    "\t\tif root is None or root.price == price:\n",
    "\t\t\treturn root\n",
    "\t\tif price < root.price:\n",
    "\t\t\treturn self._search(root.left, price)\n",
    "\t\treturn self._search(root.right, price)\n",
    "\t\n",
    "\t# DELETE A PROPERTY\n",
    "\tdef delete_property(self, price, id):\n",
    "\t\tnode = self.search(price)\n",
    "\t\tif node:\n",
    "\t\t\tnode.delete_property(id)\n",
    "\t\t\tself.root = self._rebalance(self.root, price)\n",
    "\t\n",
    "\tdef _rebalance(self, root, price):\n",
    "\t\t\"\"\"Rebalances the tree if necessary after a deletion.\"\"\"\n",
    "\t\tif root is None:\n",
    "\t\t\treturn root\n",
    "\n",
    "\t\troot.height = 1 + max(self.get_height(root.left), self.get_height(root.right))\n",
    "\t\tbalance = self.get_balance(root)\n",
    "\n",
    "\t\t# Left-Left (Rotate Right)\n",
    "\t\tif balance > 1 and self.get_balance(root.left) >= 0:\n",
    "\t\t\treturn self.rotate_right(root)\n",
    "\n",
    "\t\t# Right-Right (Rotate Left)\n",
    "\t\tif balance < -1 and self.get_balance(root.right) <= 0:\n",
    "\t\t\treturn self.rotate_left(root)\n",
    "\n",
    "\t\t# Left-Right (Left Rotate, then Right Rotate)\n",
    "\t\tif balance > 1 and self.get_balance(root.left) < 0:\n",
    "\t\t\troot.left = self.rotate_left(root.left)\n",
    "\t\t\treturn self.rotate_right(root)\n",
    "\n",
    "\t\t# Right-Left (Right Rotate, then Left Rotate)\n",
    "\t\tif balance < -1 and self.get_balance(root.right) > 0:\n",
    "\t\t\troot.right = self.rotate_right(root.right)\n",
    "\t\t\treturn self.rotate_left(root)\n",
    "\n",
    "\t\treturn root\n",
    "\t\n",
    "\t# Tree attributes\n",
    "\tdef size(self):\n",
    "\t\t\"\"\" Returns the size of the tree: total number of nodes\n",
    "\t\t(number of unique price points) \"\"\"\n",
    "\t\treturn self._size(self.root)\n",
    "\n",
    "\tdef _size(self, node):\n",
    "\t\tif node is None:\n",
    "\t\t\treturn 0\n",
    "\t\telse:\n",
    "\t\t\treturn 1 + self._size(node.left) + self._size(node.right)\n",
    "\t\t\n",
    "\tdef total_nb_properties(self):\n",
    "\t\t\"\"\" Returns the total number of properties in the tree. \"\"\"\n",
    "\t\treturn self._total_nb_properties(self.root)\n",
    "\t\n",
    "\tdef _total_nb_properties(self, node):\n",
    "\t\tif node is None:\n",
    "\t\t\treturn 0\n",
    "\t\telse:\n",
    "\t\t\treturn node.nb_properties() + \\\n",
    "\t\t\t\t\tself._total_nb_properties(node.left) + \\\n",
    "\t\t\t\t\tself._total_nb_properties(node.right)"
   ]
  },
  {
   "cell_type": "markdown",
   "metadata": {},
   "source": [
    "Now we'll define a function that will generate a BST from a dataset (stored in a pandas DataFrame)"
   ]
  },
  {
   "cell_type": "code",
   "execution_count": 62,
   "metadata": {},
   "outputs": [],
   "source": [
    "def BST_from_dataset(city: str, dataset: pd.DataFrame):\n",
    "\n",
    "    print(f\"Building a BST for the dataset of {city}.\")\n",
    "    start = time.time()\n",
    "    bst = BinarySearchTree()\n",
    "\n",
    "    for i in range(len(dataset)):\n",
    "        # We extract the property from the DataFrame -> pd.Series\n",
    "        property = dataset.iloc[i]\n",
    "\n",
    "        # We define the ID for the property\n",
    "        id = property_id(city, i)\n",
    "\n",
    "        # We insert the property on our tree.\n",
    "        # The Price is indexed under 'Price' (at position 0)\n",
    "        # and the rest of the Series are the other details\n",
    "        bst.insert(price=property['Price'], id=id, details=property[1:])\n",
    "\n",
    "    print(f\"Execution time {time.time() - start:.4f}\")\n",
    "\n",
    "    return bst"
   ]
  },
  {
   "cell_type": "code",
   "execution_count": 63,
   "metadata": {},
   "outputs": [],
   "source": [
    "def BST_from_csv(city: str, filename: str):\n",
    "\n",
    "    print(f\"Building a BST for the dataset of {city}.\")\n",
    "    start = time.time()\n",
    "    bst = BinarySearchTree()\n",
    "\n",
    "    # Open the CSV file\n",
    "    i = 0\n",
    "    with open(filename, mode=\"r\") as file:\n",
    "        # Read the first line as the header\n",
    "        header = file.readline().strip().split(\",\")[1:]\n",
    "\n",
    "        # Iterate over the remaining lines\n",
    "        for line in file:\n",
    "            property = line.strip().split(',')\n",
    "            id = property_id(city, i)\n",
    "            bst.insert(price=int(property[0]),\n",
    "                       id=id,\n",
    "                       details=pd.Series(data=property[1:], index=header))\n",
    "            i += 1\n",
    "\n",
    "    print(f\"Execution time {time.time() - start:.4f}\")\n",
    "\n",
    "    return bst"
   ]
  },
  {
   "cell_type": "markdown",
   "metadata": {},
   "source": [
    "### Creating the Bangalore BST"
   ]
  },
  {
   "cell_type": "code",
   "execution_count": 64,
   "metadata": {},
   "outputs": [
    {
     "name": "stdout",
     "output_type": "stream",
     "text": [
      "Building a BST for the dataset of Bangalore.\n",
      "Execution time 1.2532\n"
     ]
    }
   ],
   "source": [
    "bangalore_bst = BST_from_csv(\"Bangalore\", \"data/Bangalore.csv\")"
   ]
  },
  {
   "cell_type": "code",
   "execution_count": 65,
   "metadata": {},
   "outputs": [
    {
     "name": "stdout",
     "output_type": "stream",
     "text": [
      "Building a BST for the dataset of Bangalore.\n",
      "Execution time 1.0399\n"
     ]
    }
   ],
   "source": [
    "bangalore_bst = BST_from_dataset(\"Bangalore\", bangalore)"
   ]
  },
  {
   "cell_type": "markdown",
   "metadata": {},
   "source": [
    "Creating the tree directly from the CSV file is slightly faster.\n",
    "\n",
    "Overall, the time it takes to build the tree is very small."
   ]
  },
  {
   "cell_type": "markdown",
   "metadata": {},
   "source": [
    "We can check that the size of our resulting trees equals the number of properties on our dataset."
   ]
  },
  {
   "cell_type": "code",
   "execution_count": 66,
   "metadata": {},
   "outputs": [
    {
     "data": {
      "text/plain": [
       "6207"
      ]
     },
     "execution_count": 66,
     "metadata": {},
     "output_type": "execute_result"
    }
   ],
   "source": [
    "len(bangalore)"
   ]
  },
  {
   "cell_type": "code",
   "execution_count": 67,
   "metadata": {},
   "outputs": [
    {
     "data": {
      "text/plain": [
       "2146"
      ]
     },
     "execution_count": 67,
     "metadata": {},
     "output_type": "execute_result"
    }
   ],
   "source": [
    "bangalore_bst.size()"
   ]
  },
  {
   "cell_type": "code",
   "execution_count": 68,
   "metadata": {},
   "outputs": [
    {
     "data": {
      "text/plain": [
       "6207"
      ]
     },
     "execution_count": 68,
     "metadata": {},
     "output_type": "execute_result"
    }
   ],
   "source": [
    "bangalore_bst.total_nb_properties()"
   ]
  },
  {
   "cell_type": "markdown",
   "metadata": {},
   "source": [
    "And now we can check what we have at our root for example:"
   ]
  },
  {
   "cell_type": "code",
   "execution_count": 69,
   "metadata": {},
   "outputs": [
    {
     "data": {
      "text/plain": [
       "6797000"
      ]
     },
     "execution_count": 69,
     "metadata": {},
     "output_type": "execute_result"
    }
   ],
   "source": [
    "bangalore_bst.root.price"
   ]
  },
  {
   "cell_type": "code",
   "execution_count": 70,
   "metadata": {},
   "outputs": [
    {
     "data": {
      "text/plain": [
       "3"
      ]
     },
     "execution_count": 70,
     "metadata": {},
     "output_type": "execute_result"
    }
   ],
   "source": [
    "bangalore_bst.root.nb_properties()"
   ]
  },
  {
   "cell_type": "code",
   "execution_count": 71,
   "metadata": {},
   "outputs": [
    {
     "data": {
      "text/plain": [
       "['BLR-0005', 'BLR-0023', 'BLR-0043']"
      ]
     },
     "execution_count": 71,
     "metadata": {},
     "output_type": "execute_result"
    }
   ],
   "source": [
    "bangalore_bst.root.property_ids()"
   ]
  },
  {
   "cell_type": "code",
   "execution_count": 72,
   "metadata": {},
   "outputs": [
    {
     "data": {
      "text/plain": [
       "Area                       1220\n",
       "Location               Horamavu\n",
       "No. of Bedrooms               2\n",
       "Resale                        0\n",
       "MaintenanceStaff              0\n",
       "Gymnasium                     1\n",
       "SwimmingPool                  1\n",
       "LandscapedGardens             1\n",
       "JoggingTrack                  1\n",
       "RainWaterHarvesting           1\n",
       "IndoorGames                   1\n",
       "ShoppingMall                  0\n",
       "Intercom                      1\n",
       "SportsFacility                1\n",
       "ATM                           0\n",
       "ClubHouse                     1\n",
       "School                        0\n",
       "24X7Security                  1\n",
       "PowerBackup                   1\n",
       "CarParking                    1\n",
       "StaffQuarter                  0\n",
       "Cafeteria                     0\n",
       "MultipurposeRoom              1\n",
       "Hospital                      0\n",
       "WashingMachine                0\n",
       "Gasconnection                 0\n",
       "AC                            0\n",
       "Wifi                          0\n",
       "Children'splayarea            1\n",
       "LiftAvailable                 1\n",
       "BED                           0\n",
       "VaastuCompliant               0\n",
       "Microwave                     0\n",
       "GolfCourse                    0\n",
       "TV                            0\n",
       "DiningTable                   0\n",
       "Sofa                          0\n",
       "Wardrobe                      0\n",
       "Refrigerator                  0\n",
       "Name: 5, dtype: object"
      ]
     },
     "execution_count": 72,
     "metadata": {},
     "output_type": "execute_result"
    }
   ],
   "source": [
    "bangalore_bst.root.properties['BLR-0005']"
   ]
  },
  {
   "cell_type": "code",
   "execution_count": 73,
   "metadata": {},
   "outputs": [
    {
     "data": {
      "text/plain": [
       "1220"
      ]
     },
     "execution_count": 73,
     "metadata": {},
     "output_type": "execute_result"
    }
   ],
   "source": [
    "bangalore_bst.root.properties['BLR-0005']['Area']"
   ]
  },
  {
   "cell_type": "markdown",
   "metadata": {},
   "source": [
    "We can also delete a property from the root and add it back again."
   ]
  },
  {
   "cell_type": "code",
   "execution_count": 74,
   "metadata": {},
   "outputs": [
    {
     "name": "stdout",
     "output_type": "stream",
     "text": [
      "Property BLR-0005 not found at price point 30000000\n"
     ]
    }
   ],
   "source": [
    "# We obtain the details of the property to re add it later on.\n",
    "blr_0005 = bangalore_bst.root.properties['BLR-0005']\n",
    "\n",
    "# We delete the property from our tree:\n",
    "bangalore_bst.delete_property(30000000, 'BLR-0005')"
   ]
  },
  {
   "cell_type": "code",
   "execution_count": 75,
   "metadata": {},
   "outputs": [
    {
     "data": {
      "text/plain": [
       "['BLR-0005', 'BLR-0023', 'BLR-0043']"
      ]
     },
     "execution_count": 75,
     "metadata": {},
     "output_type": "execute_result"
    }
   ],
   "source": [
    "bangalore_bst.root.property_ids()"
   ]
  },
  {
   "cell_type": "markdown",
   "metadata": {},
   "source": [
    "Now we can't see 'BLR-0005' anymore. Let's add it again."
   ]
  },
  {
   "cell_type": "code",
   "execution_count": 76,
   "metadata": {},
   "outputs": [],
   "source": [
    "bangalore_bst.insert(30000000, 'BLR-0005', blr_0005)"
   ]
  },
  {
   "cell_type": "code",
   "execution_count": 77,
   "metadata": {},
   "outputs": [
    {
     "data": {
      "text/plain": [
       "['BLR-0005', 'BLR-0023', 'BLR-0043']"
      ]
     },
     "execution_count": 77,
     "metadata": {},
     "output_type": "execute_result"
    }
   ],
   "source": [
    "bangalore_bst.root.property_ids()"
   ]
  },
  {
   "cell_type": "markdown",
   "metadata": {},
   "source": [
    "And we've successfully added it back in!"
   ]
  },
  {
   "cell_type": "markdown",
   "metadata": {},
   "source": [
    "### Querying functions"
   ]
  },
  {
   "cell_type": "markdown",
   "metadata": {},
   "source": [
    "#### Properties at the median price point."
   ]
  },
  {
   "cell_type": "code",
   "execution_count": 78,
   "metadata": {},
   "outputs": [],
   "source": [
    "def inorder_traversal(root, result=None):\n",
    "    if result is None:\n",
    "        result = []\n",
    "    if root:\n",
    "        inorder_traversal(root.left, result)\n",
    "        result.append(root.price)  # Store the price of the node\n",
    "        inorder_traversal(root.right, result)\n",
    "    return result\n",
    "\n",
    "def find_median(root):\n",
    "    nodes = inorder_traversal(root)\n",
    "    n = len(nodes)\n",
    "    return nodes[n // 2]\n",
    "\n",
    "def median_properties(bst):\n",
    "    median_price = find_median(bst.root)\n",
    "    node = bst.search(median_price)\n",
    "    print(f\"Median price: {median_price}\")\n",
    "    print(f\"{node.nb_properties()} property/ies priced at {node.price}.\")\n",
    "    return node.properties"
   ]
  },
  {
   "cell_type": "code",
   "execution_count": 79,
   "metadata": {},
   "outputs": [
    {
     "name": "stdout",
     "output_type": "stream",
     "text": [
      "Median price: 6581000\n",
      "1 property/ies priced at 6581000.\n"
     ]
    },
    {
     "data": {
      "text/plain": [
       "{'BLR-0216': Area                       1181\n",
       " Location               Horamavu\n",
       " No. of Bedrooms               2\n",
       " Resale                        0\n",
       " MaintenanceStaff              0\n",
       " Gymnasium                     1\n",
       " SwimmingPool                  1\n",
       " LandscapedGardens             1\n",
       " JoggingTrack                  1\n",
       " RainWaterHarvesting           1\n",
       " IndoorGames                   1\n",
       " ShoppingMall                  0\n",
       " Intercom                      1\n",
       " SportsFacility                1\n",
       " ATM                           0\n",
       " ClubHouse                     1\n",
       " School                        0\n",
       " 24X7Security                  1\n",
       " PowerBackup                   1\n",
       " CarParking                    1\n",
       " StaffQuarter                  0\n",
       " Cafeteria                     0\n",
       " MultipurposeRoom              1\n",
       " Hospital                      0\n",
       " WashingMachine                0\n",
       " Gasconnection                 0\n",
       " AC                            0\n",
       " Wifi                          0\n",
       " Children'splayarea            1\n",
       " LiftAvailable                 1\n",
       " BED                           0\n",
       " VaastuCompliant               0\n",
       " Microwave                     0\n",
       " GolfCourse                    0\n",
       " TV                            0\n",
       " DiningTable                   0\n",
       " Sofa                          0\n",
       " Wardrobe                      0\n",
       " Refrigerator                  0\n",
       " Name: 216, dtype: object}"
      ]
     },
     "execution_count": 79,
     "metadata": {},
     "output_type": "execute_result"
    }
   ],
   "source": [
    "median_properties(bangalore_bst)"
   ]
  },
  {
   "cell_type": "markdown",
   "metadata": {},
   "source": [
    "#### Properties at the cheapest price point."
   ]
  },
  {
   "cell_type": "code",
   "execution_count": 80,
   "metadata": {},
   "outputs": [],
   "source": [
    "def cheapest_properties(bst):\n",
    "    \"\"\" We traverse the tree always going towards the left child since the\n",
    "    price will be smaller.\"\"\"\n",
    "    node = bst.root\n",
    "    while node.left:\n",
    "        node = node.left\n",
    "    print(f\"Lowest price: {node.price}\")\n",
    "    print(f\"{node.nb_properties()} property/ies priced at {node.price}.\")\n",
    "    return node.properties"
   ]
  },
  {
   "cell_type": "code",
   "execution_count": 81,
   "metadata": {},
   "outputs": [
    {
     "name": "stdout",
     "output_type": "stream",
     "text": [
      "Lowest price: 2000000\n",
      "1 property/ies priced at 2000000.\n"
     ]
    },
    {
     "data": {
      "text/plain": [
       "{'BLR-5099': Area                            2730\n",
       " Location               Sarjapur Road\n",
       " No. of Bedrooms                    4\n",
       " Resale                             0\n",
       " MaintenanceStaff                   9\n",
       " Gymnasium                          9\n",
       " SwimmingPool                       9\n",
       " LandscapedGardens                  9\n",
       " JoggingTrack                       9\n",
       " RainWaterHarvesting                9\n",
       " IndoorGames                        9\n",
       " ShoppingMall                       9\n",
       " Intercom                           9\n",
       " SportsFacility                     9\n",
       " ATM                                9\n",
       " ClubHouse                          9\n",
       " School                             9\n",
       " 24X7Security                       9\n",
       " PowerBackup                        9\n",
       " CarParking                         9\n",
       " StaffQuarter                       9\n",
       " Cafeteria                          9\n",
       " MultipurposeRoom                   9\n",
       " Hospital                           9\n",
       " WashingMachine                     9\n",
       " Gasconnection                      9\n",
       " AC                                 9\n",
       " Wifi                               9\n",
       " Children'splayarea                 9\n",
       " LiftAvailable                      9\n",
       " BED                                9\n",
       " VaastuCompliant                    9\n",
       " Microwave                          9\n",
       " GolfCourse                         9\n",
       " TV                                 9\n",
       " DiningTable                        9\n",
       " Sofa                               9\n",
       " Wardrobe                           9\n",
       " Refrigerator                       9\n",
       " Name: 5099, dtype: object}"
      ]
     },
     "execution_count": 81,
     "metadata": {},
     "output_type": "execute_result"
    }
   ],
   "source": [
    "cheapest_properties(bangalore_bst)"
   ]
  },
  {
   "cell_type": "markdown",
   "metadata": {},
   "source": [
    "#### Properties at the most expensive price point."
   ]
  },
  {
   "cell_type": "code",
   "execution_count": 82,
   "metadata": {},
   "outputs": [],
   "source": [
    "def most_expensive_properties(bst):\n",
    "    \"\"\" We traverse the tree always going towards the left child since the\n",
    "    price will be smaller.\"\"\"\n",
    "    node = bst.root\n",
    "    while node.right:\n",
    "        node = node.right\n",
    "    print(f\"Highest price: {node.price}\")\n",
    "    print(f\"{node.nb_properties()} property/ies priced at {node.price}.\")\n",
    "    return node.properties"
   ]
  },
  {
   "cell_type": "code",
   "execution_count": 83,
   "metadata": {},
   "outputs": [
    {
     "name": "stdout",
     "output_type": "stream",
     "text": [
      "Highest price: 300000000\n",
      "1 property/ies priced at 300000000.\n"
     ]
    },
    {
     "data": {
      "text/plain": [
       "{'BLR-4834': Area                           785\n",
       " Location               Bommasandra\n",
       " No. of Bedrooms                  2\n",
       " Resale                           0\n",
       " MaintenanceStaff                 9\n",
       " Gymnasium                        9\n",
       " SwimmingPool                     9\n",
       " LandscapedGardens                9\n",
       " JoggingTrack                     9\n",
       " RainWaterHarvesting              9\n",
       " IndoorGames                      9\n",
       " ShoppingMall                     9\n",
       " Intercom                         9\n",
       " SportsFacility                   9\n",
       " ATM                              9\n",
       " ClubHouse                        9\n",
       " School                           9\n",
       " 24X7Security                     9\n",
       " PowerBackup                      9\n",
       " CarParking                       9\n",
       " StaffQuarter                     9\n",
       " Cafeteria                        9\n",
       " MultipurposeRoom                 9\n",
       " Hospital                         9\n",
       " WashingMachine                   9\n",
       " Gasconnection                    9\n",
       " AC                               9\n",
       " Wifi                             9\n",
       " Children'splayarea               9\n",
       " LiftAvailable                    9\n",
       " BED                              9\n",
       " VaastuCompliant                  9\n",
       " Microwave                        9\n",
       " GolfCourse                       9\n",
       " TV                               9\n",
       " DiningTable                      9\n",
       " Sofa                             9\n",
       " Wardrobe                         9\n",
       " Refrigerator                     9\n",
       " Name: 4834, dtype: object}"
      ]
     },
     "execution_count": 83,
     "metadata": {},
     "output_type": "execute_result"
    }
   ],
   "source": [
    "most_expensive_properties(bangalore_bst)"
   ]
  },
  {
   "cell_type": "markdown",
   "metadata": {},
   "source": [
    "## 2. Visualization"
   ]
  },
  {
   "cell_type": "code",
   "execution_count": 84,
   "metadata": {},
   "outputs": [
    {
     "name": "stdout",
     "output_type": "stream",
     "text": [
      "Building a BST for the dataset of Bangalore.\n",
      "Execution time 1.6882\n"
     ]
    },
    {
     "data": {
      "image/svg+xml": [
       "<?xml version=\"1.0\" encoding=\"UTF-8\" standalone=\"no\"?>\n",
       "<!DOCTYPE svg PUBLIC \"-//W3C//DTD SVG 1.1//EN\"\n",
       " \"http://www.w3.org/Graphics/SVG/1.1/DTD/svg11.dtd\">\n",
       "<!-- Generated by graphviz version 12.2.0 (20241103.1931)\n",
       " -->\n",
       "<!-- Pages: 1 -->\n",
       "<svg width=\"842pt\" height=\"326pt\"\n",
       " viewBox=\"0.00 0.00 841.93 325.95\" xmlns=\"http://www.w3.org/2000/svg\" xmlns:xlink=\"http://www.w3.org/1999/xlink\">\n",
       "<g id=\"graph0\" class=\"graph\" transform=\"scale(1 1) rotate(0) translate(4 321.95)\">\n",
       "<polygon fill=\"white\" stroke=\"none\" points=\"-4,4 -4,-321.95 837.93,-321.95 837.93,4 -4,4\"/>\n",
       "<!-- 6797000 -->\n",
       "<g id=\"node1\" class=\"node\">\n",
       "<title>6797000</title>\n",
       "<ellipse fill=\"none\" stroke=\"black\" cx=\"397.16\" cy=\"-288.96\" rx=\"56.92\" ry=\"28.99\"/>\n",
       "<text text-anchor=\"middle\" x=\"397.16\" y=\"-292.16\" font-family=\"Times New Roman,serif\" font-size=\"14.00\">6797000</text>\n",
       "<text text-anchor=\"middle\" x=\"397.16\" y=\"-275.66\" font-family=\"Times New Roman,serif\" font-size=\"14.00\">3 properties</text>\n",
       "</g>\n",
       "<!-- 4866000 -->\n",
       "<g id=\"node2\" class=\"node\">\n",
       "<title>4866000</title>\n",
       "<ellipse fill=\"none\" stroke=\"black\" cx=\"329.16\" cy=\"-194.97\" rx=\"56.92\" ry=\"28.99\"/>\n",
       "<text text-anchor=\"middle\" x=\"329.16\" y=\"-198.17\" font-family=\"Times New Roman,serif\" font-size=\"14.00\">4866000</text>\n",
       "<text text-anchor=\"middle\" x=\"329.16\" y=\"-181.67\" font-family=\"Times New Roman,serif\" font-size=\"14.00\">3 properties</text>\n",
       "</g>\n",
       "<!-- 6797000&#45;&gt;4866000 -->\n",
       "<g id=\"edge1\" class=\"edge\">\n",
       "<title>6797000&#45;&gt;4866000</title>\n",
       "<path fill=\"none\" stroke=\"black\" d=\"M377.49,-261.35C370.66,-252.1 362.87,-241.58 355.58,-231.71\"/>\n",
       "<polygon fill=\"black\" stroke=\"black\" points=\"358.45,-229.7 349.69,-223.74 352.82,-233.86 358.45,-229.7\"/>\n",
       "</g>\n",
       "<!-- 9369000 -->\n",
       "<g id=\"node9\" class=\"node\">\n",
       "<title>9369000</title>\n",
       "<ellipse fill=\"none\" stroke=\"black\" cx=\"485.16\" cy=\"-194.97\" rx=\"56.92\" ry=\"28.99\"/>\n",
       "<text text-anchor=\"middle\" x=\"485.16\" y=\"-198.17\" font-family=\"Times New Roman,serif\" font-size=\"14.00\">9369000</text>\n",
       "<text text-anchor=\"middle\" x=\"485.16\" y=\"-181.67\" font-family=\"Times New Roman,serif\" font-size=\"14.00\">4 properties</text>\n",
       "</g>\n",
       "<!-- 6797000&#45;&gt;9369000 -->\n",
       "<g id=\"edge8\" class=\"edge\">\n",
       "<title>6797000&#45;&gt;9369000</title>\n",
       "<path fill=\"none\" stroke=\"black\" d=\"M421.68,-262.33C431.4,-252.17 442.72,-240.34 453.08,-229.5\"/>\n",
       "<polygon fill=\"black\" stroke=\"black\" points=\"455.35,-232.2 459.73,-222.55 450.29,-227.36 455.35,-232.2\"/>\n",
       "</g>\n",
       "<!-- 3779999 -->\n",
       "<g id=\"node3\" class=\"node\">\n",
       "<title>3779999</title>\n",
       "<ellipse fill=\"none\" stroke=\"black\" cx=\"147.16\" cy=\"-100.99\" rx=\"56.92\" ry=\"28.99\"/>\n",
       "<text text-anchor=\"middle\" x=\"147.16\" y=\"-104.19\" font-family=\"Times New Roman,serif\" font-size=\"14.00\">3779999</text>\n",
       "<text text-anchor=\"middle\" x=\"147.16\" y=\"-87.69\" font-family=\"Times New Roman,serif\" font-size=\"14.00\">6 properties</text>\n",
       "</g>\n",
       "<!-- 4866000&#45;&gt;3779999 -->\n",
       "<g id=\"edge2\" class=\"edge\">\n",
       "<title>4866000&#45;&gt;3779999</title>\n",
       "<path fill=\"none\" stroke=\"black\" d=\"M289.22,-173.79C262.08,-160.07 225.97,-141.82 196.95,-127.16\"/>\n",
       "<polygon fill=\"black\" stroke=\"black\" points=\"198.86,-124.2 188.36,-122.81 195.71,-130.45 198.86,-124.2\"/>\n",
       "</g>\n",
       "<!-- 5700000 -->\n",
       "<g id=\"node6\" class=\"node\">\n",
       "<title>5700000</title>\n",
       "<ellipse fill=\"none\" stroke=\"black\" cx=\"329.16\" cy=\"-100.99\" rx=\"61.7\" ry=\"28.99\"/>\n",
       "<text text-anchor=\"middle\" x=\"329.16\" y=\"-104.19\" font-family=\"Times New Roman,serif\" font-size=\"14.00\">5700000</text>\n",
       "<text text-anchor=\"middle\" x=\"329.16\" y=\"-87.69\" font-family=\"Times New Roman,serif\" font-size=\"14.00\">15 properties</text>\n",
       "</g>\n",
       "<!-- 4866000&#45;&gt;5700000 -->\n",
       "<g id=\"edge5\" class=\"edge\">\n",
       "<title>4866000&#45;&gt;5700000</title>\n",
       "<path fill=\"none\" stroke=\"black\" d=\"M329.16,-165.63C329.16,-158.11 329.16,-149.85 329.16,-141.84\"/>\n",
       "<polygon fill=\"black\" stroke=\"black\" points=\"332.66,-141.92 329.16,-131.92 325.66,-141.92 332.66,-141.92\"/>\n",
       "</g>\n",
       "<!-- 3038000 -->\n",
       "<g id=\"node4\" class=\"node\">\n",
       "<title>3038000</title>\n",
       "<ellipse fill=\"none\" stroke=\"black\" cx=\"43.16\" cy=\"-18\" rx=\"43.16\" ry=\"18\"/>\n",
       "<text text-anchor=\"middle\" x=\"43.16\" y=\"-12.95\" font-family=\"Times New Roman,serif\" font-size=\"14.00\">3038000</text>\n",
       "</g>\n",
       "<!-- 3779999&#45;&gt;3038000 -->\n",
       "<g id=\"edge3\" class=\"edge\">\n",
       "<title>3779999&#45;&gt;3038000</title>\n",
       "<path fill=\"none\" stroke=\"black\" d=\"M116.52,-76.13C102.27,-65.03 85.42,-51.91 71.47,-41.05\"/>\n",
       "<polygon fill=\"black\" stroke=\"black\" points=\"74.01,-38.59 63.97,-35.21 69.71,-44.11 74.01,-38.59\"/>\n",
       "</g>\n",
       "<!-- 4368000 -->\n",
       "<g id=\"node5\" class=\"node\">\n",
       "<title>4368000</title>\n",
       "<ellipse fill=\"none\" stroke=\"black\" cx=\"147.16\" cy=\"-18\" rx=\"43.16\" ry=\"18\"/>\n",
       "<text text-anchor=\"middle\" x=\"147.16\" y=\"-12.95\" font-family=\"Times New Roman,serif\" font-size=\"14.00\">4368000</text>\n",
       "</g>\n",
       "<!-- 3779999&#45;&gt;4368000 -->\n",
       "<g id=\"edge4\" class=\"edge\">\n",
       "<title>3779999&#45;&gt;4368000</title>\n",
       "<path fill=\"none\" stroke=\"black\" d=\"M147.16,-71.66C147.16,-63.79 147.16,-55.24 147.16,-47.36\"/>\n",
       "<polygon fill=\"black\" stroke=\"black\" points=\"150.66,-47.61 147.16,-37.61 143.66,-47.61 150.66,-47.61\"/>\n",
       "</g>\n",
       "<!-- 5240000 -->\n",
       "<g id=\"node7\" class=\"node\">\n",
       "<title>5240000</title>\n",
       "<ellipse fill=\"none\" stroke=\"black\" cx=\"251.16\" cy=\"-18\" rx=\"43.16\" ry=\"18\"/>\n",
       "<text text-anchor=\"middle\" x=\"251.16\" y=\"-12.95\" font-family=\"Times New Roman,serif\" font-size=\"14.00\">5240000</text>\n",
       "</g>\n",
       "<!-- 5700000&#45;&gt;5240000 -->\n",
       "<g id=\"edge6\" class=\"edge\">\n",
       "<title>5700000&#45;&gt;5240000</title>\n",
       "<path fill=\"none\" stroke=\"black\" d=\"M304.48,-74.37C294.82,-64.33 283.79,-52.88 274.28,-43\"/>\n",
       "<polygon fill=\"black\" stroke=\"black\" points=\"276.89,-40.67 267.44,-35.9 271.85,-45.53 276.89,-40.67\"/>\n",
       "</g>\n",
       "<!-- 6367000 -->\n",
       "<g id=\"node8\" class=\"node\">\n",
       "<title>6367000</title>\n",
       "<ellipse fill=\"none\" stroke=\"black\" cx=\"355.16\" cy=\"-18\" rx=\"43.16\" ry=\"18\"/>\n",
       "<text text-anchor=\"middle\" x=\"355.16\" y=\"-12.95\" font-family=\"Times New Roman,serif\" font-size=\"14.00\">6367000</text>\n",
       "</g>\n",
       "<!-- 5700000&#45;&gt;6367000 -->\n",
       "<g id=\"edge7\" class=\"edge\">\n",
       "<title>5700000&#45;&gt;6367000</title>\n",
       "<path fill=\"none\" stroke=\"black\" d=\"M338.11,-72.12C340.71,-64.03 343.54,-55.2 346.14,-47.1\"/>\n",
       "<polygon fill=\"black\" stroke=\"black\" points=\"349.42,-48.32 349.15,-37.73 342.76,-46.18 349.42,-48.32\"/>\n",
       "</g>\n",
       "<!-- 7888000 -->\n",
       "<g id=\"node10\" class=\"node\">\n",
       "<title>7888000</title>\n",
       "<ellipse fill=\"none\" stroke=\"black\" cx=\"485.16\" cy=\"-100.99\" rx=\"56.92\" ry=\"28.99\"/>\n",
       "<text text-anchor=\"middle\" x=\"485.16\" y=\"-104.19\" font-family=\"Times New Roman,serif\" font-size=\"14.00\">7888000</text>\n",
       "<text text-anchor=\"middle\" x=\"485.16\" y=\"-87.69\" font-family=\"Times New Roman,serif\" font-size=\"14.00\">3 properties</text>\n",
       "</g>\n",
       "<!-- 9369000&#45;&gt;7888000 -->\n",
       "<g id=\"edge9\" class=\"edge\">\n",
       "<title>9369000&#45;&gt;7888000</title>\n",
       "<path fill=\"none\" stroke=\"black\" d=\"M485.16,-165.63C485.16,-158.11 485.16,-149.85 485.16,-141.84\"/>\n",
       "<polygon fill=\"black\" stroke=\"black\" points=\"488.66,-141.92 485.16,-131.92 481.66,-141.92 488.66,-141.92\"/>\n",
       "</g>\n",
       "<!-- 23700000 -->\n",
       "<g id=\"node13\" class=\"node\">\n",
       "<title>23700000</title>\n",
       "<ellipse fill=\"none\" stroke=\"black\" cx=\"672.16\" cy=\"-100.99\" rx=\"56.92\" ry=\"28.99\"/>\n",
       "<text text-anchor=\"middle\" x=\"672.16\" y=\"-104.19\" font-family=\"Times New Roman,serif\" font-size=\"14.00\">23700000</text>\n",
       "<text text-anchor=\"middle\" x=\"672.16\" y=\"-87.69\" font-family=\"Times New Roman,serif\" font-size=\"14.00\">2 properties</text>\n",
       "</g>\n",
       "<!-- 9369000&#45;&gt;23700000 -->\n",
       "<g id=\"edge12\" class=\"edge\">\n",
       "<title>9369000&#45;&gt;23700000</title>\n",
       "<path fill=\"none\" stroke=\"black\" d=\"M525.28,-174.24C553.53,-160.35 591.56,-141.64 621.84,-126.74\"/>\n",
       "<polygon fill=\"black\" stroke=\"black\" points=\"623,-130.07 630.43,-122.52 619.91,-123.79 623,-130.07\"/>\n",
       "</g>\n",
       "<!-- 7363000 -->\n",
       "<g id=\"node11\" class=\"node\">\n",
       "<title>7363000</title>\n",
       "<ellipse fill=\"none\" stroke=\"black\" cx=\"459.16\" cy=\"-18\" rx=\"43.16\" ry=\"18\"/>\n",
       "<text text-anchor=\"middle\" x=\"459.16\" y=\"-12.95\" font-family=\"Times New Roman,serif\" font-size=\"14.00\">7363000</text>\n",
       "</g>\n",
       "<!-- 7888000&#45;&gt;7363000 -->\n",
       "<g id=\"edge10\" class=\"edge\">\n",
       "<title>7888000&#45;&gt;7363000</title>\n",
       "<path fill=\"none\" stroke=\"black\" d=\"M476.21,-72.12C473.62,-64.03 470.78,-55.2 468.18,-47.1\"/>\n",
       "<polygon fill=\"black\" stroke=\"black\" points=\"471.56,-46.18 465.18,-37.73 464.9,-48.32 471.56,-46.18\"/>\n",
       "</g>\n",
       "<!-- 8405000 -->\n",
       "<g id=\"node12\" class=\"node\">\n",
       "<title>8405000</title>\n",
       "<ellipse fill=\"none\" stroke=\"black\" cx=\"563.16\" cy=\"-18\" rx=\"43.16\" ry=\"18\"/>\n",
       "<text text-anchor=\"middle\" x=\"563.16\" y=\"-12.95\" font-family=\"Times New Roman,serif\" font-size=\"14.00\">8405000</text>\n",
       "</g>\n",
       "<!-- 7888000&#45;&gt;8405000 -->\n",
       "<g id=\"edge11\" class=\"edge\">\n",
       "<title>7888000&#45;&gt;8405000</title>\n",
       "<path fill=\"none\" stroke=\"black\" d=\"M509.84,-74.37C519.51,-64.33 530.54,-52.88 540.05,-43\"/>\n",
       "<polygon fill=\"black\" stroke=\"black\" points=\"542.47,-45.53 546.89,-35.9 537.43,-40.67 542.47,-45.53\"/>\n",
       "</g>\n",
       "<!-- 12400000 -->\n",
       "<g id=\"node14\" class=\"node\">\n",
       "<title>12400000</title>\n",
       "<ellipse fill=\"none\" stroke=\"black\" cx=\"672.16\" cy=\"-18\" rx=\"47.77\" ry=\"18\"/>\n",
       "<text text-anchor=\"middle\" x=\"672.16\" y=\"-12.95\" font-family=\"Times New Roman,serif\" font-size=\"14.00\">12400000</text>\n",
       "</g>\n",
       "<!-- 23700000&#45;&gt;12400000 -->\n",
       "<g id=\"edge13\" class=\"edge\">\n",
       "<title>23700000&#45;&gt;12400000</title>\n",
       "<path fill=\"none\" stroke=\"black\" d=\"M672.16,-71.66C672.16,-63.79 672.16,-55.24 672.16,-47.36\"/>\n",
       "<polygon fill=\"black\" stroke=\"black\" points=\"675.66,-47.61 672.16,-37.61 668.66,-47.61 675.66,-47.61\"/>\n",
       "</g>\n",
       "<!-- 35900000 -->\n",
       "<g id=\"node15\" class=\"node\">\n",
       "<title>35900000</title>\n",
       "<ellipse fill=\"none\" stroke=\"black\" cx=\"786.16\" cy=\"-18\" rx=\"47.77\" ry=\"18\"/>\n",
       "<text text-anchor=\"middle\" x=\"786.16\" y=\"-12.95\" font-family=\"Times New Roman,serif\" font-size=\"14.00\">35900000</text>\n",
       "</g>\n",
       "<!-- 23700000&#45;&gt;35900000 -->\n",
       "<g id=\"edge14\" class=\"edge\">\n",
       "<title>23700000&#45;&gt;35900000</title>\n",
       "<path fill=\"none\" stroke=\"black\" d=\"M704.83,-76.78C720.74,-65.48 739.76,-51.96 755.41,-40.85\"/>\n",
       "<polygon fill=\"black\" stroke=\"black\" points=\"757.3,-43.8 763.43,-35.15 753.25,-38.09 757.3,-43.8\"/>\n",
       "</g>\n",
       "</g>\n",
       "</svg>\n"
      ],
      "text/plain": [
       "<graphviz.sources.Source at 0x25728d66cf0>"
      ]
     },
     "execution_count": 84,
     "metadata": {},
     "output_type": "execute_result"
    }
   ],
   "source": [
    "def visualize_limited_bst(root, max_depth=2):\n",
    "    \"\"\"Visualizes the BST up to a given depth and displays it inline in a Jupyter Notebook.\"\"\"\n",
    "    \n",
    "    dot = Digraph()\n",
    "\n",
    "    def add_nodes_edges(node, depth=0):\n",
    "        if node and depth <= max_depth:\n",
    "            # Add the current node\n",
    "            dot.node(str(node.price), f\"{node.price}\\n{\n",
    "                len(node.properties)} properties\")\n",
    "            \n",
    "            # Add edges to children if within max depth\n",
    "            if node.left:\n",
    "                dot.edge(str(node.price), str(node.left.price))\n",
    "                add_nodes_edges(node.left, depth + 1)\n",
    "            if node.right:\n",
    "                dot.edge(str(node.price), str(node.right.price))\n",
    "                add_nodes_edges(node.right, depth + 1)\n",
    "\n",
    "    add_nodes_edges(root)\n",
    "\n",
    "    # Render the graph inline in Jupyter Notebook\n",
    "    return Source(dot.source)\n",
    "\n",
    "\n",
    "# Example: Visualize the first 2 levels of the tree\n",
    "bst = BST_from_csv(\"Bangalore\", \"data/Bangalore.csv\")  # Build the BST with your CSV\n",
    "visualize_limited_bst(bst.root, max_depth=2)  # Render inline\n"
   ]
  },
  {
   "cell_type": "markdown",
   "metadata": {},
   "source": [
    "This image illustrates a binary search tree (BST) where each node represents a property price. In a BST, the left subtree of a node contains only prices lower than the node's price, and the right subtree contains only prices higher. The root node has a price of 6,797,000 and contains 3 properties, with the left child priced at 4,866,000 (also 3 properties) and the right child at 9,369,000 (4 properties). The tree branches further, showing property prices and their counts up to a depth of 2. This visualization helps understand the distribution of property prices and reveals patterns or gaps in the data, useful for analyzing real estate datasets.\n"
   ]
  },
  {
   "cell_type": "code",
   "execution_count": 85,
   "metadata": {},
   "outputs": [
    {
     "name": "stdout",
     "output_type": "stream",
     "text": [
      "Building a BST for the dataset of Bangalore.\n",
      "Execution time 0.5800\n",
      "Tree Summary:\n",
      "  Total Nodes: 2146\n",
      "  Depth Levels: 13\n",
      "  Nodes per Level: [1, 2, 4, 8, 16, 32, 64, 128, 256, 493, 716, 399, 27]\n",
      "  Max Depth: 12\n",
      "  Median Price: 6581000\n",
      "  Properties at Median Price           (6581000): 1\n"
     ]
    }
   ],
   "source": [
    "def summarize_bst(root):\n",
    "    \"\"\"Prints a summary of the BST.\"\"\"\n",
    "\n",
    "    def get_depths(node, depth=0, depths=[]):\n",
    "        if node is None:\n",
    "            return\n",
    "        if len(depths) <= depth:\n",
    "            depths.append(0)\n",
    "        depths[depth] += 1\n",
    "        get_depths(node.left, depth + 1, depths)\n",
    "        get_depths(node.right, depth + 1, depths)\n",
    "        return depths\n",
    "\n",
    "    depths = get_depths(root)\n",
    "\n",
    "    print(f\"Tree Summary:\")\n",
    "    print(f\"  Total Nodes: {sum(depths)}\")\n",
    "    print(f\"  Depth Levels: {len(depths)}\")\n",
    "    print(f\"  Nodes per Level: {depths}\")\n",
    "    print(f\"  Max Depth: {len(depths) - 1}\")\n",
    "    \n",
    "    # Use your existing `find_median` function\n",
    "    median_price = find_median(root)\n",
    "    print(f\"  Median Price: {median_price}\")\n",
    "    \n",
    "    # Get properties at the median price\n",
    "    median_node = bst.search(median_price)\n",
    "    print(f\"  Properties at Median Price \\\n",
    "          ({median_price}): {median_node.nb_properties()}\")\n",
    "\n",
    "\n",
    "# Example usage\n",
    "bst = BST_from_csv(\"Bangalore\", \"data/Bangalore.csv\")  # Build the BST with your CSV\n",
    "summarize_bst(bst.root)  # Print the summary\n"
   ]
  },
  {
   "cell_type": "code",
   "execution_count": 86,
   "metadata": {},
   "outputs": [
    {
     "data": {
      "image/png": "[encoded data removed]",
      "text/plain": [
       "<Figure size 1000x600 with 1 Axes>"
      ]
     },
     "metadata": {
      "image/png": {
       "height": 588,
       "width": 988
      }
     },
     "output_type": "display_data"
    }
   ],
   "source": [
    "def visualize_bst_summary(total_nodes, \n",
    "                          depths, \n",
    "                          nodes_per_level, \n",
    "                          max_depth, median_price, \n",
    "                          median_properties):\n",
    "    \"\"\"Visualizes the BST summary.\"\"\"\n",
    "\n",
    "    levels = np.arange(len(nodes_per_level))\n",
    "\n",
    "    # Bar chart for nodes per level\n",
    "    plt.figure(figsize=(10, 6))\n",
    "    plt.bar(levels, nodes_per_level, color='skyblue', edgecolor='black')\n",
    "\n",
    "    # Adding annotations\n",
    "    for i, count in enumerate(nodes_per_level):\n",
    "        plt.text(i, count + 10, str(count), ha='center', fontsize=8)\n",
    "\n",
    "    # Titles and labels\n",
    "    plt.title(\n",
    "        f\"BST Summary Visualization\\nTotal Nodes: {total_nodes}, Max Depth: {\n",
    "            max_depth}, Median Price: {median_price}\",\n",
    "        fontsize=14\n",
    "    )\n",
    "    plt.xlabel(\"Depth Level\", fontsize=12)\n",
    "    plt.ylabel(\"Number of Nodes\", fontsize=12)\n",
    "    plt.xticks(levels, [f\"Level {i}\" for i in levels], rotation=45)\n",
    "\n",
    "    # Highlighting median-related info\n",
    "    plt.text(\n",
    "        len(levels) - 1, \n",
    "        max(nodes_per_level),\n",
    "        f\"Median Price:\\n{median_price}\\nProperties: {median_properties}\",\n",
    "        fontsize=10, \n",
    "        color=\"red\", \n",
    "        ha=\"center\", \n",
    "        bbox=dict(facecolor='white', edgecolor='red', alpha=0.6)\n",
    "    )\n",
    "\n",
    "    # Remove the right and top spines\n",
    "    ax = plt.gca()  # Get the current axes\n",
    "    ax.spines['right'].set_visible(False)\n",
    "    ax.spines['top'].set_visible(False)\n",
    "\n",
    "    plt.tight_layout()\n",
    "    plt.show()\n",
    "\n",
    "\n",
    "# Example usage with your data\n",
    "total_nodes = 2146\n",
    "depths = 13\n",
    "nodes_per_level = [1, 2, 4, 8, 16, 32, 64, 128, 256, 493, 716, 399, 27]\n",
    "max_depth = 12\n",
    "median_price = 6581000\n",
    "median_props = 1\n",
    "\n",
    "visualize_bst_summary(total_nodes, depths, nodes_per_level, \n",
    "                      max_depth, median_price, median_props)\n"
   ]
  },
  {
   "cell_type": "markdown",
   "metadata": {},
   "source": [
    "### BST Summary:\n",
    "\n",
    "- **X-Axis (Depth Levels)**:  \n",
    "  The x-axis shows the depth levels of the tree, starting from the root (Level 0) to the deepest level (Level 12). As depth increases, the number of nodes generally decreases, which is typical for balanced or sparse trees.\n",
    "\n",
    "- **Y-Axis (Number of Nodes)**:  \n",
    "  The y-axis represents the number of nodes at each depth, with higher bars indicating more nodes at that depth.\n",
    "\n",
    "### Key Insights:\n",
    "- **Level 0 (Root)**: Starts with 1 node.\n",
    "- **Levels 1 to 4**: Show a slight increase in nodes.\n",
    "- **Levels 5 to 9**: Significant growth in nodes, with the largest number at Level 9 (716 nodes), suggesting a balanced tree.\n",
    "- **Levels 10 to 12**: A decline in nodes, with only 27 nodes remaining at Level 12, indicating a sparse or imbalanced structure at deeper levels.\n",
    "\n",
    "- **Median Price and Properties**:  \n",
    "  The tree’s median price is 6,581,000, with 1 property at this price. This price serves as a reference for analyzing price distribution.\n",
    "\n",
    "### Conclusion:\n",
    "The tree appears somewhat balanced, with a concentration of nodes in the middle levels. The decline in nodes after Level 9 suggests either a balanced distribution of prices or outliers causing concentration at specific levels. The sparse nature of deeper levels may indicate an imbalanced structure or the presence of high-value outliers in the data.\n"
   ]
  },
  {
   "cell_type": "code",
   "execution_count": 87,
   "metadata": {},
   "outputs": [
    {
     "data": {
      "image/svg+xml": [
       "<?xml version=\"1.0\" encoding=\"UTF-8\" standalone=\"no\"?>\n",
       "<!DOCTYPE svg PUBLIC \"-//W3C//DTD SVG 1.1//EN\"\n",
       " \"http://www.w3.org/Graphics/SVG/1.1/DTD/svg11.dtd\">\n",
       "<!-- Generated by graphviz version 12.2.0 (20241103.1931)\n",
       " -->\n",
       "<!-- Pages: 1 -->\n",
       "<svg width=\"1310pt\" height=\"66pt\"\n",
       " viewBox=\"0.00 0.00 1309.84 65.98\" xmlns=\"http://www.w3.org/2000/svg\" xmlns:xlink=\"http://www.w3.org/1999/xlink\">\n",
       "<g id=\"graph0\" class=\"graph\" transform=\"scale(1 1) rotate(0) translate(4 61.98)\">\n",
       "<polygon fill=\"white\" stroke=\"none\" points=\"-4,4 -4,-61.98 1305.84,-61.98 1305.84,4 -4,4\"/>\n",
       "<!-- 4495000 -->\n",
       "<g id=\"node1\" class=\"node\">\n",
       "<title>4495000</title>\n",
       "<ellipse fill=\"none\" stroke=\"black\" cx=\"56.92\" cy=\"-28.99\" rx=\"56.92\" ry=\"28.99\"/>\n",
       "<text text-anchor=\"middle\" x=\"56.92\" y=\"-32.19\" font-family=\"Times New Roman,serif\" font-size=\"14.00\">4495000</text>\n",
       "<text text-anchor=\"middle\" x=\"56.92\" y=\"-15.69\" font-family=\"Times New Roman,serif\" font-size=\"14.00\">1 properties</text>\n",
       "</g>\n",
       "<!-- 7777000 -->\n",
       "<g id=\"node2\" class=\"node\">\n",
       "<title>7777000</title>\n",
       "<ellipse fill=\"none\" stroke=\"black\" cx=\"188.92\" cy=\"-28.99\" rx=\"56.92\" ry=\"28.99\"/>\n",
       "<text text-anchor=\"middle\" x=\"188.92\" y=\"-32.19\" font-family=\"Times New Roman,serif\" font-size=\"14.00\">7777000</text>\n",
       "<text text-anchor=\"middle\" x=\"188.92\" y=\"-15.69\" font-family=\"Times New Roman,serif\" font-size=\"14.00\">1 properties</text>\n",
       "</g>\n",
       "<!-- 7554000 -->\n",
       "<g id=\"node3\" class=\"node\">\n",
       "<title>7554000</title>\n",
       "<ellipse fill=\"none\" stroke=\"black\" cx=\"320.92\" cy=\"-28.99\" rx=\"56.92\" ry=\"28.99\"/>\n",
       "<text text-anchor=\"middle\" x=\"320.92\" y=\"-32.19\" font-family=\"Times New Roman,serif\" font-size=\"14.00\">7554000</text>\n",
       "<text text-anchor=\"middle\" x=\"320.92\" y=\"-15.69\" font-family=\"Times New Roman,serif\" font-size=\"14.00\">1 properties</text>\n",
       "</g>\n",
       "<!-- 5258000 -->\n",
       "<g id=\"node4\" class=\"node\">\n",
       "<title>5258000</title>\n",
       "<ellipse fill=\"none\" stroke=\"black\" cx=\"452.92\" cy=\"-28.99\" rx=\"56.92\" ry=\"28.99\"/>\n",
       "<text text-anchor=\"middle\" x=\"452.92\" y=\"-32.19\" font-family=\"Times New Roman,serif\" font-size=\"14.00\">5258000</text>\n",
       "<text text-anchor=\"middle\" x=\"452.92\" y=\"-15.69\" font-family=\"Times New Roman,serif\" font-size=\"14.00\">1 properties</text>\n",
       "</g>\n",
       "<!-- 2862000 -->\n",
       "<g id=\"node5\" class=\"node\">\n",
       "<title>2862000</title>\n",
       "<ellipse fill=\"none\" stroke=\"black\" cx=\"584.92\" cy=\"-28.99\" rx=\"56.92\" ry=\"28.99\"/>\n",
       "<text text-anchor=\"middle\" x=\"584.92\" y=\"-32.19\" font-family=\"Times New Roman,serif\" font-size=\"14.00\">2862000</text>\n",
       "<text text-anchor=\"middle\" x=\"584.92\" y=\"-15.69\" font-family=\"Times New Roman,serif\" font-size=\"14.00\">1 properties</text>\n",
       "</g>\n",
       "<!-- 4813000 -->\n",
       "<g id=\"node6\" class=\"node\">\n",
       "<title>4813000</title>\n",
       "<ellipse fill=\"none\" stroke=\"black\" cx=\"716.92\" cy=\"-28.99\" rx=\"56.92\" ry=\"28.99\"/>\n",
       "<text text-anchor=\"middle\" x=\"716.92\" y=\"-32.19\" font-family=\"Times New Roman,serif\" font-size=\"14.00\">4813000</text>\n",
       "<text text-anchor=\"middle\" x=\"716.92\" y=\"-15.69\" font-family=\"Times New Roman,serif\" font-size=\"14.00\">1 properties</text>\n",
       "</g>\n",
       "<!-- 89800000 -->\n",
       "<g id=\"node7\" class=\"node\">\n",
       "<title>89800000</title>\n",
       "<ellipse fill=\"none\" stroke=\"black\" cx=\"848.92\" cy=\"-28.99\" rx=\"56.92\" ry=\"28.99\"/>\n",
       "<text text-anchor=\"middle\" x=\"848.92\" y=\"-32.19\" font-family=\"Times New Roman,serif\" font-size=\"14.00\">89800000</text>\n",
       "<text text-anchor=\"middle\" x=\"848.92\" y=\"-15.69\" font-family=\"Times New Roman,serif\" font-size=\"14.00\">2 properties</text>\n",
       "</g>\n",
       "<!-- 38900000 -->\n",
       "<g id=\"node8\" class=\"node\">\n",
       "<title>38900000</title>\n",
       "<ellipse fill=\"none\" stroke=\"black\" cx=\"980.92\" cy=\"-28.99\" rx=\"56.92\" ry=\"28.99\"/>\n",
       "<text text-anchor=\"middle\" x=\"980.92\" y=\"-32.19\" font-family=\"Times New Roman,serif\" font-size=\"14.00\">38900000</text>\n",
       "<text text-anchor=\"middle\" x=\"980.92\" y=\"-15.69\" font-family=\"Times New Roman,serif\" font-size=\"14.00\">1 properties</text>\n",
       "</g>\n",
       "<!-- 8649000 -->\n",
       "<g id=\"node9\" class=\"node\">\n",
       "<title>8649000</title>\n",
       "<ellipse fill=\"none\" stroke=\"black\" cx=\"1112.92\" cy=\"-28.99\" rx=\"56.92\" ry=\"28.99\"/>\n",
       "<text text-anchor=\"middle\" x=\"1112.92\" y=\"-32.19\" font-family=\"Times New Roman,serif\" font-size=\"14.00\">8649000</text>\n",
       "<text text-anchor=\"middle\" x=\"1112.92\" y=\"-15.69\" font-family=\"Times New Roman,serif\" font-size=\"14.00\">2 properties</text>\n",
       "</g>\n",
       "<!-- 3835000 -->\n",
       "<g id=\"node10\" class=\"node\">\n",
       "<title>3835000</title>\n",
       "<ellipse fill=\"none\" stroke=\"black\" cx=\"1244.92\" cy=\"-28.99\" rx=\"56.92\" ry=\"28.99\"/>\n",
       "<text text-anchor=\"middle\" x=\"1244.92\" y=\"-32.19\" font-family=\"Times New Roman,serif\" font-size=\"14.00\">3835000</text>\n",
       "<text text-anchor=\"middle\" x=\"1244.92\" y=\"-15.69\" font-family=\"Times New Roman,serif\" font-size=\"14.00\">1 properties</text>\n",
       "</g>\n",
       "</g>\n",
       "</svg>\n"
      ],
      "text/plain": [
       "<graphviz.graphs.Digraph at 0x2572c12c410>"
      ]
     },
     "execution_count": 87,
     "metadata": {},
     "output_type": "execute_result"
    }
   ],
   "source": [
    "def visualize_sample_nodes_notebook(root, sample_size=10):\n",
    "    \"\"\"Visualizes a random sample of nodes and their connections directly in the notebook.\"\"\"\n",
    "    dot = Digraph()\n",
    "\n",
    "    def collect_nodes(node):\n",
    "        \"\"\"Collect all nodes in the tree.\"\"\"\n",
    "        if not node:\n",
    "            return []\n",
    "        return [node] + collect_nodes(node.left) + collect_nodes(node.right)\n",
    "\n",
    "    # Collect all nodes in the tree\n",
    "    all_nodes = collect_nodes(root)\n",
    "\n",
    "    # Sample nodes\n",
    "    sampled_nodes = random.sample(all_nodes, min(sample_size, len(all_nodes)))\n",
    "\n",
    "    # Helper to check if a node is in the sampled list\n",
    "    sampled_set = set(sampled_nodes)\n",
    "\n",
    "    # Add sampled nodes and their connections\n",
    "    for node in sampled_nodes:\n",
    "        # Add the node itself\n",
    "        dot.node(str(node.price), f\"{node.price}\\n{\n",
    "            len(node.properties)} properties\")\n",
    "        # Only add edges for sampled nodes\n",
    "        if node.left and node.left in sampled_set:\n",
    "            dot.edge(str(node.price), str(node.left.price))\n",
    "        if node.right and node.right in sampled_set:\n",
    "            dot.edge(str(node.price), str(node.right.price))\n",
    "\n",
    "    # Display the graph in the notebook\n",
    "    return dot\n",
    "\n",
    "# Example: Visualize a random sample of 10 nodes in the notebook\n",
    "graph = visualize_sample_nodes_notebook(bst.root, sample_size=10)\n",
    "graph.view()  # Generates and opens a temporary file to view outside the notebook\n",
    "\n",
    "# Render directly in the notebook\n",
    "graph\n"
   ]
  },
  {
   "cell_type": "markdown",
   "metadata": {},
   "source": [
    "This image displays a random sample of nodes from a binary search tree (BST), where each node represents a property at a specific price point. The nodes are arranged according to the BST structure, with left child nodes having lower prices and right child nodes having higher prices. This random sampling provides a snapshot of the tree’s price distribution, highlighting how properties are distributed within the BST, though it doesn't represent the entire structure of the tree.\n"
   ]
  },
  {
   "cell_type": "code",
   "execution_count": 88,
   "metadata": {},
   "outputs": [
    {
     "data": {
      "image/png": "[encoded data removed]",
      "text/plain": [
       "<Figure size 1200x400 with 1 Axes>"
      ]
     },
     "metadata": {
      "image/png": {
       "height": 392,
       "width": 1001
      }
     },
     "output_type": "display_data"
    }
   ],
   "source": [
    "def plot_traversal_order(root):\n",
    "    \"\"\"Visualize in-order traversal as a line plot.\"\"\"\n",
    "    traversal = inorder_traversal(root)\n",
    "    plt.figure(figsize=(12, 4))\n",
    "    plt.plot(range(len(traversal)), traversal, marker='o', \n",
    "             linestyle='-', color='orange')\n",
    "    plt.xlabel(\"Traversal Order\")\n",
    "    plt.ylabel(\"Node Price\")\n",
    "    plt.title(\"In-Order Traversal of BST\")\n",
    "        # Remove the right and top spines\n",
    "    ax = plt.gca()  # Get the current axes\n",
    "    ax.spines['right'].set_visible(False)\n",
    "    ax.spines['top'].set_visible(False)\n",
    "    plt.show()\n",
    "\n",
    "# Example:\n",
    "plot_traversal_order(bst.root)\n"
   ]
  },
  {
   "cell_type": "markdown",
   "metadata": {},
   "source": [
    "### Traversal Order:\n",
    "\n",
    "- **Flat Region**:  \n",
    "  The flat portion of the curve on the left indicates that many nodes have very low or identical prices. This could imply that there are repeated or closely clustered price values in this range.\n",
    "\n",
    "- **Steep Increase**:  \n",
    "  The sharp rise toward the right indicates a sudden increase in price values. This suggests that higher-priced nodes are concentrated in the upper range, with fewer nodes at these higher price levels.\n",
    "\n",
    "- **Spread of Prices**:  \n",
    "  The shape of the curve reflects the distribution of node prices in the tree:\n",
    "  - A long, flat region followed by a sharp rise suggests that most prices are concentrated in a low range, with a few outliers or significantly higher prices.\n",
    "  - If the curve were more gradual, it would indicate a more even distribution of prices.\n",
    "\n",
    "- **BST Property Validation**:  \n",
    "  Since this is an in-order traversal, the plot should always increase or stay constant (never decrease). This confirms that the BST is correctly maintaining the property where left child nodes have smaller values than their parent, and right child nodes have larger values.\n",
    "\n",
    "### Observations:\n",
    "- The tree has a wide range of node prices, with a small subset of nodes contributing to the steep increase on the right.\n",
    "- This pattern could indicate a dataset with a majority of small values and a few high-value outliers, which is common in domains like real estate or sales data.\n"
   ]
  },
  {
   "cell_type": "markdown",
   "metadata": {},
   "source": [
    "## 3. Discussion: BST vs. other data structures"
   ]
  },
  {
   "cell_type": "markdown",
   "metadata": {},
   "source": [
    "#### Functions: "
   ]
  },
  {
   "cell_type": "code",
   "execution_count": 89,
   "metadata": {},
   "outputs": [],
   "source": [
    "def suppress_print(func):\n",
    "    \"\"\"Decorator to suppress print statements within a function\"\"\"\n",
    "    def wrapper(*args, **kwargs):\n",
    "        # Backup the original stdout\n",
    "        original_stdout = sys.stdout\n",
    "        # Redirect stdout to os.devnull to suppress print output\n",
    "        sys.stdout = open(os.devnull, 'w')\n",
    "        result = func(*args, **kwargs)\n",
    "        # Restore the original stdout\n",
    "        sys.stdout = original_stdout\n",
    "        return result\n",
    "    return wrapper"
   ]
  },
  {
   "cell_type": "code",
   "execution_count": 101,
   "metadata": {},
   "outputs": [],
   "source": [
    "def measure_runtime_with_BST_from_dataset(file_path, city=\"Bangalore\"):\n",
    "    \"\"\"\n",
    "    Measures runtime for min, max, and median queries for BST, Array, and Hash Table.\n",
    "    Suppresses print statements from the called functions.\n",
    "    :param file_path: Path to the CSV file.\n",
    "    :param city: City name for property ID generation.\n",
    "    :return: DataFrame summarizing runtimes for queries.\n",
    "    \"\"\"\n",
    "    # Load data from CSV\n",
    "    dataset = pd.read_csv(file_path)\n",
    "    results = []\n",
    "\n",
    "    # BST Test (Using BST_from_dataset)\n",
    "    start = timer()\n",
    "    bst = suppress_print(BST_from_dataset)(city, dataset) \n",
    "    bst_time = (timer() - start) * 1000\n",
    "\n",
    "    # Time for min, max, and median queries for BST\n",
    "    start = timer()\n",
    "    suppress_print(cheapest_properties)(bst)  # Min query\n",
    "    min_query_time_bst = (timer() - start) * 1000\n",
    "\n",
    "    start = timer()\n",
    "    suppress_print(most_expensive_properties)(bst)  # Max query\n",
    "    max_query_time_bst = (timer() - start) * 1000\n",
    "\n",
    "    start = timer()\n",
    "    suppress_print(median_properties)(bst)  # Median query\n",
    "    median_query_time_bst = (timer() - start) * 1000\n",
    "\n",
    "    results.append({\"Data Structure\": \"BST\", \"Operation\": \"Min Query\", \"Time (ms)\": min_query_time_bst})\n",
    "    results.append({\"Data Structure\": \"BST\", \"Operation\": \"Max Query\", \"Time (ms)\": max_query_time_bst})\n",
    "    results.append({\"Data Structure\": \"BST\", \"Operation\": \"Median Query\", \"Time (ms)\": median_query_time_bst})\n",
    "\n",
    "    # Array Test\n",
    "    array = [(dataset.iloc[i]['Price'], f\"ID-{i}\", dataset.iloc[i][1:].to_dict()) for i in range(len(dataset))]\n",
    "\n",
    "    # Time for min, max, and median queries for Array\n",
    "    start = timer()\n",
    "    min_price_array = min(array, key=lambda x: x[0])  # Min price\n",
    "    min_query_time_array = (timer() - start) * 1000\n",
    "\n",
    "    start = timer()\n",
    "    max_price_array = max(array, key=lambda x: x[0])  # Max price\n",
    "    max_query_time_array = (timer() - start) * 1000\n",
    "\n",
    "    start = timer()\n",
    "    sorted_array = sorted(array, key=lambda x: x[0])\n",
    "    median_price_array = sorted_array[len(sorted_array) // 2][0]  # Median price\n",
    "    median_query_time_array = (timer() - start) * 1000\n",
    "\n",
    "    results.append({\"Data Structure\": \"Array\", \"Operation\": \"Min Query\", \"Time (ms)\": min_query_time_array})\n",
    "    results.append({\"Data Structure\": \"Array\", \"Operation\": \"Max Query\", \"Time (ms)\": max_query_time_array})\n",
    "    results.append({\"Data Structure\": \"Array\", \"Operation\": \"Median Query\", \"Time (ms)\": median_query_time_array})\n",
    "\n",
    "    # Hash Table Test\n",
    "    hash_table = {}\n",
    "    \n",
    "    # Populate hash table\n",
    "    for i in range(len(dataset)):\n",
    "        property_data = dataset.iloc[i].to_dict()\n",
    "        if 'Price' in property_data:\n",
    "            hash_table[f\"ID-{i}\"] = property_data\n",
    "\n",
    "    # Time for min, max, and median queries for Hash Table\n",
    "    start = timer()\n",
    "    min_price_hash = min(hash_table.values(), key=lambda x: x['Price'])['Price']  # Min price\n",
    "    min_query_time_hash = (timer() - start) * 1000\n",
    "\n",
    "    start = timer()\n",
    "    max_price_hash = max(hash_table.values(), key=lambda x: x['Price'])['Price']  # Max price\n",
    "    max_query_time_hash = (timer() - start) * 1000\n",
    "\n",
    "    start = timer()\n",
    "    sorted_hash = sorted(hash_table.values(), key=lambda x: x['Price'])\n",
    "    median_price_hash = sorted_hash[len(sorted_hash) // 2]['Price']  # Median price\n",
    "    median_query_time_hash = (timer() - start) * 1000\n",
    "\n",
    "    results.append({\"Data Structure\": \"Hash Table\", \"Operation\": \"Min Query\", \"Time (ms)\": min_query_time_hash})\n",
    "    results.append({\"Data Structure\": \"Hash Table\", \"Operation\": \"Max Query\", \"Time (ms)\": max_query_time_hash})\n",
    "    results.append({\"Data Structure\": \"Hash Table\", \"Operation\": \"Median Query\", \"Time (ms)\": median_query_time_hash})\n",
    "\n",
    "    return pd.DataFrame(results)\n"
   ]
  },
  {
   "cell_type": "code",
   "execution_count": 102,
   "metadata": {},
   "outputs": [],
   "source": [
    "def plot_grouped_histogram_with_log_scale(df):\n",
    "    # Pivot the DataFrame to group by Operation and Data Structure\n",
    "    pivot_df = df.pivot(index='Operation', columns='Data Structure', values='Time (ms)')\n",
    "    \n",
    "    # Plot the grouped histogram\n",
    "    ax = pivot_df.plot(kind='bar', figsize=(10, 6), width=0.8)\n",
    "    \n",
    "    # Set the title and labels\n",
    "    plt.title(\"Query Time Comparison for Data Structures\")\n",
    "    plt.xlabel(\"Operation\")\n",
    "    plt.ylabel(\"Time (ms)\")\n",
    "\n",
    "    # Set the y-axis to a logarithmic scale\n",
    "    ax.set_yscale('log')\n",
    "\n",
    "    # Rotate x-axis labels for better readability\n",
    "    plt.xticks(rotation=45, ha='right')\n",
    "\n",
    "    # Display the legend to differentiate between data structures\n",
    "    plt.legend(title=\"Data Structure\")\n",
    "    \n",
    "    # Make the layout tight for better visual presentation\n",
    "    plt.tight_layout()\n",
    "    \n",
    "    # Show the plot\n",
    "    plt.show()\n"
   ]
  },
  {
   "cell_type": "markdown",
   "metadata": {},
   "source": [
    "#### Querying Time Comparison Results:"
   ]
  },
  {
   "cell_type": "code",
   "execution_count": 103,
   "metadata": {},
   "outputs": [
    {
     "data": {
      "text/html": [
       "<div>\n",
       "<style scoped>\n",
       "    .dataframe tbody tr th:only-of-type {\n",
       "        vertical-align: middle;\n",
       "    }\n",
       "\n",
       "    .dataframe tbody tr th {\n",
       "        vertical-align: top;\n",
       "    }\n",
       "\n",
       "    .dataframe thead th {\n",
       "        text-align: right;\n",
       "    }\n",
       "</style>\n",
       "<table border=\"1\" class=\"dataframe\">\n",
       "  <thead>\n",
       "    <tr style=\"text-align: right;\">\n",
       "      <th></th>\n",
       "      <th>Data Structure</th>\n",
       "      <th>Operation</th>\n",
       "      <th>Time (ms)</th>\n",
       "    </tr>\n",
       "  </thead>\n",
       "  <tbody>\n",
       "    <tr>\n",
       "      <th>0</th>\n",
       "      <td>BST</td>\n",
       "      <td>Min Query</td>\n",
       "      <td>0.1083</td>\n",
       "    </tr>\n",
       "    <tr>\n",
       "      <th>1</th>\n",
       "      <td>BST</td>\n",
       "      <td>Max Query</td>\n",
       "      <td>0.0388</td>\n",
       "    </tr>\n",
       "    <tr>\n",
       "      <th>2</th>\n",
       "      <td>BST</td>\n",
       "      <td>Median Query</td>\n",
       "      <td>1.1273</td>\n",
       "    </tr>\n",
       "    <tr>\n",
       "      <th>3</th>\n",
       "      <td>Array</td>\n",
       "      <td>Min Query</td>\n",
       "      <td>0.5310</td>\n",
       "    </tr>\n",
       "    <tr>\n",
       "      <th>4</th>\n",
       "      <td>Array</td>\n",
       "      <td>Max Query</td>\n",
       "      <td>0.8817</td>\n",
       "    </tr>\n",
       "    <tr>\n",
       "      <th>5</th>\n",
       "      <td>Array</td>\n",
       "      <td>Median Query</td>\n",
       "      <td>3.7313</td>\n",
       "    </tr>\n",
       "    <tr>\n",
       "      <th>6</th>\n",
       "      <td>Hash Table</td>\n",
       "      <td>Min Query</td>\n",
       "      <td>0.9295</td>\n",
       "    </tr>\n",
       "    <tr>\n",
       "      <th>7</th>\n",
       "      <td>Hash Table</td>\n",
       "      <td>Max Query</td>\n",
       "      <td>0.7203</td>\n",
       "    </tr>\n",
       "    <tr>\n",
       "      <th>8</th>\n",
       "      <td>Hash Table</td>\n",
       "      <td>Median Query</td>\n",
       "      <td>1.9571</td>\n",
       "    </tr>\n",
       "  </tbody>\n",
       "</table>\n",
       "</div>"
      ],
      "text/plain": [
       "  Data Structure     Operation  Time (ms)\n",
       "0            BST     Min Query     0.1083\n",
       "1            BST     Max Query     0.0388\n",
       "2            BST  Median Query     1.1273\n",
       "3          Array     Min Query     0.5310\n",
       "4          Array     Max Query     0.8817\n",
       "5          Array  Median Query     3.7313\n",
       "6     Hash Table     Min Query     0.9295\n",
       "7     Hash Table     Max Query     0.7203\n",
       "8     Hash Table  Median Query     1.9571"
      ]
     },
     "execution_count": 103,
     "metadata": {},
     "output_type": "execute_result"
    }
   ],
   "source": [
    "file_path = \"data/Bangalore.csv\" \n",
    "results_df = measure_runtime_with_BST_from_dataset(file_path)\n",
    "\n",
    "results_df"
   ]
  },
  {
   "cell_type": "code",
   "execution_count": 104,
   "metadata": {},
   "outputs": [
    {
     "data": {
      "image/png": "[encoded data removed]",
      "text/plain": [
       "<Figure size 1000x600 with 1 Axes>"
      ]
     },
     "metadata": {
      "image/png": {
       "height": 588,
       "width": 989
      }
     },
     "output_type": "display_data"
    }
   ],
   "source": [
    "plot_grouped_histogram_with_log_scale(results_df)"
   ]
  },
  {
   "cell_type": "markdown",
   "metadata": {},
   "source": [
    "Binary Search Trees (BSTs) perform well with querying for minimum and maximum values due to the O(log n) complexity; however, it is slower when searching for the median due to the O(n) traversal required for an in-order search. Despite this, it is still faster than arrays and hash tables. \n",
    "\n",
    "Hash tables performs better than the arrays for querying minimum and maximum values but worse than the BSTs due to lack of ordering. Its median query performance is constrained by the need to sort the data but it is still faster than arrays despite occasionally being on par with the BSTs.\n",
    "\n",
    "Arrays perform slower for querying minimum and maximum values compared to BSTs and Hash Table, as it requires scanning the entire array. The median query is slower due to the need to sort the array, which is O(n log n), unless the array is already sorted.\n"
   ]
  },
  {
   "cell_type": "markdown",
   "metadata": {},
   "source": [
    "#### Insertion/Deletion Time Comparison Results:"
   ]
  },
  {
   "cell_type": "code",
   "execution_count": 108,
   "metadata": {},
   "outputs": [],
   "source": [
    "def measure_insertion_deletion_time(file_path, city=\"Bangalore\"):\n",
    "    \"\"\"\n",
    "    Measures runtime for insertion and deletion operations in BST, Array, and Hash Table.\n",
    "    Suppresses print statements from the called functions.\n",
    "    :param file_path: Path to the CSV file.\n",
    "    :param city: City name for property ID generation.\n",
    "    :return: DataFrame summarizing runtimes for insertion and deletion.\n",
    "    \"\"\"\n",
    "    # Load data from CSV\n",
    "    dataset = pd.read_csv(file_path)\n",
    "    results = []\n",
    "\n",
    "    # BST Test (Using BST_from_dataset)\n",
    "    start = timer()\n",
    "    bst = suppress_print(BST_from_dataset)(city, dataset)  # Create BST and suppress print output\n",
    "    bst_insertion_time = (timer() - start) * 1000\n",
    "\n",
    "    # Time for deletion in BST\n",
    "    start = timer()\n",
    "    # After insertion, delete the property with the minimum price in BST\n",
    "    if bst.root is not None:\n",
    "        min_price = bst.root.price  # Let's delete the node with the minimum price\n",
    "        suppress_print(bst.delete_property)(min_price, None)  # Remove the property with the minimum price\n",
    "    bst_deletion_time = (timer() - start) * 1000\n",
    "\n",
    "    results.append({\"Data Structure\": \"BST\", \"Operation\": \"Insertion\", \"Time (ms)\": bst_insertion_time})\n",
    "    results.append({\"Data Structure\": \"BST\", \"Operation\": \"Deletion\", \"Time (ms)\": bst_deletion_time})\n",
    "\n",
    "    # Array Test\n",
    "    array = [(dataset.iloc[i]['Price'], f\"ID-{i}\", dataset.iloc[i][1:].to_dict()) for i in range(len(dataset))]\n",
    "\n",
    "    # Time for insertion in Array\n",
    "    start = timer()\n",
    "    array_insertion_time = (timer() - start) * 1000\n",
    "\n",
    "    # Time for deletion in Array (we remove the minimum element)\n",
    "    start = timer()\n",
    "    min_price_element = min(array, key=lambda x: x[0])  # Find the min priced element\n",
    "    array = [x for x in array if x[0] != min_price_element[0]]  # Delete min price element\n",
    "    array_deletion_time = (timer() - start) * 1000\n",
    "\n",
    "    results.append({\"Data Structure\": \"Array\", \"Operation\": \"Insertion\", \"Time (ms)\": array_insertion_time})\n",
    "    results.append({\"Data Structure\": \"Array\", \"Operation\": \"Deletion\", \"Time (ms)\": array_deletion_time})\n",
    "\n",
    "    # Hash Table Test\n",
    "    hash_table = {}\n",
    "    \n",
    "    # Check that 'Price' key is in every record\n",
    "    for i in range(len(dataset)):\n",
    "        property_data = dataset.iloc[i].to_dict()\n",
    "        if 'Price' in property_data:\n",
    "            hash_table[f\"ID-{i}\"] = property_data\n",
    "        else:\n",
    "            continue  # Skip the entry without 'Price'\n",
    "\n",
    "    # Time for insertion in Hash Table\n",
    "    start = timer()\n",
    "    hash_table_insertion_time = (timer() - start) * 1000\n",
    "\n",
    "    # Time for deletion in Hash Table (we remove the min priced property)\n",
    "    start = timer()\n",
    "    min_price_key = min(hash_table, key=lambda x: hash_table[x]['Price'])\n",
    "    del hash_table[min_price_key]  # Delete the entry with the min price\n",
    "    hash_table_deletion_time = (timer() - start) * 1000\n",
    "\n",
    "    results.append({\"Data Structure\": \"Hash Table\", \"Operation\": \"Insertion\", \"Time (ms)\": hash_table_insertion_time})\n",
    "    results.append({\"Data Structure\": \"Hash Table\", \"Operation\": \"Deletion\", \"Time (ms)\": hash_table_deletion_time})\n",
    "\n",
    "    return pd.DataFrame(results)"
   ]
  },
  {
   "cell_type": "code",
   "execution_count": 109,
   "metadata": {},
   "outputs": [
    {
     "data": {
      "text/html": [
       "<div>\n",
       "<style scoped>\n",
       "    .dataframe tbody tr th:only-of-type {\n",
       "        vertical-align: middle;\n",
       "    }\n",
       "\n",
       "    .dataframe tbody tr th {\n",
       "        vertical-align: top;\n",
       "    }\n",
       "\n",
       "    .dataframe thead th {\n",
       "        text-align: right;\n",
       "    }\n",
       "</style>\n",
       "<table border=\"1\" class=\"dataframe\">\n",
       "  <thead>\n",
       "    <tr style=\"text-align: right;\">\n",
       "      <th></th>\n",
       "      <th>Data Structure</th>\n",
       "      <th>Operation</th>\n",
       "      <th>Time (ms)</th>\n",
       "    </tr>\n",
       "  </thead>\n",
       "  <tbody>\n",
       "    <tr>\n",
       "      <th>0</th>\n",
       "      <td>BST</td>\n",
       "      <td>Insertion</td>\n",
       "      <td>1014.5890</td>\n",
       "    </tr>\n",
       "    <tr>\n",
       "      <th>1</th>\n",
       "      <td>BST</td>\n",
       "      <td>Deletion</td>\n",
       "      <td>0.1902</td>\n",
       "    </tr>\n",
       "    <tr>\n",
       "      <th>2</th>\n",
       "      <td>Array</td>\n",
       "      <td>Insertion</td>\n",
       "      <td>0.0006</td>\n",
       "    </tr>\n",
       "    <tr>\n",
       "      <th>3</th>\n",
       "      <td>Array</td>\n",
       "      <td>Deletion</td>\n",
       "      <td>1.3162</td>\n",
       "    </tr>\n",
       "    <tr>\n",
       "      <th>4</th>\n",
       "      <td>Hash Table</td>\n",
       "      <td>Insertion</td>\n",
       "      <td>0.0005</td>\n",
       "    </tr>\n",
       "    <tr>\n",
       "      <th>5</th>\n",
       "      <td>Hash Table</td>\n",
       "      <td>Deletion</td>\n",
       "      <td>2.0937</td>\n",
       "    </tr>\n",
       "  </tbody>\n",
       "</table>\n",
       "</div>"
      ],
      "text/plain": [
       "  Data Structure  Operation  Time (ms)\n",
       "0            BST  Insertion  1014.5890\n",
       "1            BST   Deletion     0.1902\n",
       "2          Array  Insertion     0.0006\n",
       "3          Array   Deletion     1.3162\n",
       "4     Hash Table  Insertion     0.0005\n",
       "5     Hash Table   Deletion     2.0937"
      ]
     },
     "execution_count": 109,
     "metadata": {},
     "output_type": "execute_result"
    }
   ],
   "source": [
    "insert_df = measure_insertion_deletion_time(file_path)\n",
    "insert_df"
   ]
  },
  {
   "cell_type": "code",
   "execution_count": 110,
   "metadata": {},
   "outputs": [
    {
     "data": {
      "image/png": "[encoded data removed]",
      "text/plain": [
       "<Figure size 1000x600 with 1 Axes>"
      ]
     },
     "metadata": {
      "image/png": {
       "height": 589,
       "width": 989
      }
     },
     "output_type": "display_data"
    }
   ],
   "source": [
    "plot_grouped_histogram_with_log_scale(insert_df)"
   ]
  },
  {
   "cell_type": "markdown",
   "metadata": {},
   "source": [
    "BSTs are slower for insertion due to the structural balancing requirements, but it's more efficient than arrays and hash tables. \n",
    "\n",
    "Arrays are more efficient for insertion, but the deletion is more expensive because of the element shifting. \n",
    "\n",
    "Hash tables are the most efficient overall for insertion and deletion, given the O(1) time complexity on average."
   ]
  }
 ],
 "metadata": {
  "kernelspec": {
   "display_name": "Python 3",
   "language": "python",
   "name": "python3"
  },
  "language_info": {
   "codemirror_mode": {
    "name": "ipython",
    "version": 3
   },
   "file_extension": ".py",
   "mimetype": "text/x-python",
   "name": "python",
   "nbconvert_exporter": "python",
   "pygments_lexer": "ipython3",
   "version": "3.12.7"
  }
 },
 "nbformat": 4,
 "nbformat_minor": 2
}
